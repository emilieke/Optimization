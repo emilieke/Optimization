{
 "cells": [
  {
   "cell_type": "markdown",
   "metadata": {},
   "source": [
    "# Transportation Problem: General Formulation\n",
    "\n",
    "\n",
    "\n",
    "Optimal transportation scheme between the factories and the markets?\n",
    "\n",
    "Minimize total transportation costs\n",
    "\n",
    "  Distance      | M1 | M2 | M3 | offer\n",
    "  --------------|-----|---|----|--\n",
    "  F1  | 2.5 | 1.7 | 1.8 | 350\n",
    "  F2  | 2.5 | 1.7 | 1.8 | 350\n",
    "  demand  | 325 | 300 | 275 |\n",
    "\n",
    "## General formulation\n",
    "\n",
    "\\begin{align*}\n",
    "\\underset{x_{ij}}{\\min} & \\quad \\sum_{i=1}^{n}\\sum_{j=1}^{m}c_{ij}x_{ij}\\\\\n",
    "\\text{s.t.:}&\\\\\n",
    "  &\\sum_{i=1}^{n} x_{ij} \\geq b_{j} \\quad \\forall j\\\\\n",
    "  &\\sum_{j=1}^{m} x_{ij} \\leq a_{i} \\quad \\forall i\\\\\n",
    "  &x_{ij} \\geq 0 \\quad \\forall ij \n",
    "\\end{align*}\n",
    "\n"
   ]
  },
  {
   "cell_type": "code",
   "execution_count": 1,
   "metadata": {
    "collapsed": false
   },
   "outputs": [
    {
     "name": "stdout",
     "output_type": "stream",
     "text": [
      "Overwriting transportation_gen.py\n"
     ]
    }
   ],
   "source": [
    "%%writefile transportation_gen.py\n",
    "\n",
    "from __future__ import division \n",
    "from pyomo.environ import *\n"
   ]
  },
  {
   "cell_type": "code",
   "execution_count": 2,
   "metadata": {
    "collapsed": false
   },
   "outputs": [
    {
     "name": "stdout",
     "output_type": "stream",
     "text": [
      "Overwriting transportation_gen.dat\n"
     ]
    }
   ],
   "source": [
    "%%writefile transportation_gen.dat\n",
    "\n"
   ]
  },
  {
   "cell_type": "code",
   "execution_count": null,
   "metadata": {
    "collapsed": false
   },
   "outputs": [],
   "source": []
  },
  {
   "cell_type": "code",
   "execution_count": null,
   "metadata": {
    "collapsed": false
   },
   "outputs": [],
   "source": []
  },
  {
   "cell_type": "code",
   "execution_count": null,
   "metadata": {
    "collapsed": true
   },
   "outputs": [],
   "source": []
  }
 ],
 "metadata": {
  "kernelspec": {
   "display_name": "Python 2",
   "language": "python",
   "name": "python2"
  },
  "language_info": {
   "codemirror_mode": {
    "name": "ipython",
    "version": 2
   },
   "file_extension": ".py",
   "mimetype": "text/x-python",
   "name": "python",
   "nbconvert_exporter": "python",
   "pygments_lexer": "ipython2",
   "version": "2.7.9"
  }
 },
 "nbformat": 4,
 "nbformat_minor": 0
}
