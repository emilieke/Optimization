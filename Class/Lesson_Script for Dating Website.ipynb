{
 "cells": [
  {
   "cell_type": "markdown",
   "metadata": {},
   "source": [
    "## Script for Dating Website"
   ]
  },
  {
   "cell_type": "markdown",
   "metadata": {},
   "source": [
    "# Dating Website\n",
    "\n",
    "\n",
    "<li>Each user has to fill an extensive questionaries to define ``dimensions of personality''.\n",
    "\n",
    "\n",
    "<li>Based on these dimensions, the webpage <font color=\"red\">estimates compatibility scores</font> associated to each possible couple.\n",
    "\n",
    "\n",
    "<li>How can we match pairs to <font color=\"red\">maximize global compatibility</font>?\n",
    "\n",
    "<li> Let index $i$ represent women and $j$ represent men. Let $w_{ij}$ be the compatibility score between woman $i$ and man $j$.\n",
    "\n",
    "\n",
    " <li> <font color=\"blue\">Decision variables:</font>\n",
    "\n",
    "$$\n",
    "x_{ij}=\n",
    "\\left\\{\\begin{array}{ll} \n",
    "1, & \\text{if we match user $i$ and user $j$,}\\\\\n",
    "0, & \\text{if we do not match user  $i$ and user $j$}\n",
    "\\end{array} \\right.\\quad i=1,2,3 \\quad j=1,2,3\n",
    "$$\n",
    "\n",
    " <li> <font color=\"blue\">Data:</font>  \n",
    "  \n",
    "$w_{ij}$ | $i=1$ | $i=2$ | $i=3$\n",
    " -------|---------------------\n",
    "  $j=1$ | 1 | 3 | 5 \n",
    "  $j=2$ | 4 | 2 | 2 \n",
    "  $j=3$ | 1 | 5 | 3\n",
    "  \n",
    "\n",
    "<li><font color=\"blue\">Formulation:</font>\n",
    "\n",
    "\\begin{align*}\n",
    "\\underset{x_{ij}}{\\max} & \\quad \\sum_{i=1}^{n}\\sum_{j=1}^{n}w_{ij}x_{ij}\\\\\n",
    "\\text{s.t.:}&\\\\\n",
    "  &\\sum_{i=1}^{n} x_{ij} =1 \\quad \\forall j\\\\\n",
    "  &\\sum_{j=1}^{n} x_{ij} = 1 \\quad \\forall i\\\\\n",
    "  &x_{ij} \\in \\{0,1\\} \\quad \\forall ij \n",
    "\\end{align*}\n",
    "\n",
    "\n",
    "\n",
    "\n",
    "\n",
    "\n"
   ]
  },
  {
   "cell_type": "code",
   "execution_count": 15,
   "metadata": {
    "collapsed": false
   },
   "outputs": [
    {
     "data": {
      "text/plain": [
       "array([[ 8.72987501,  0.9856351 ,  2.83353406],\n",
       "       [ 4.25220942,  2.19955362,  3.18825283],\n",
       "       [ 6.47492484,  2.50943306,  1.05756451]])"
      ]
     },
     "execution_count": 15,
     "metadata": {},
     "output_type": "execute_result"
    }
   ],
   "source": [
    "import numpy as np\n",
    "n=3; #women\n",
    "m=3; #men\n",
    "#w=np.array([[1, 4, 1],[3, 2, 5],[5, 2, 3]]);w\n",
    "w=np.random.uniform(0,10,([n,m]));w"
   ]
  },
  {
   "cell_type": "code",
   "execution_count": 16,
   "metadata": {
    "collapsed": false
   },
   "outputs": [],
   "source": [
    "from pyomo.environ import *\n",
    "opt = SolverFactory(\"glpk\")\n",
    "from pyomo.opt import SolverFactory\n",
    "\n",
    "model=AbstractModel()\n",
    "\n",
    "model.I = RangeSet(1,n)\n",
    "model.J = RangeSet(1,m)\n",
    "\n",
    "model.x=Var(model.I,model.J,domain=Binary)\n",
    "\n",
    "def obj_func(model):\n",
    "    return sum(sum(model.x[i,j]*w[i-1,j-1] for i in model.I) for j in model.J)\n",
    "model.OBJ = Objective(rule=obj_func, sense=maximize)\n",
    "\n",
    "def const1(model,j):\n",
    "    return sum(model.x[i,j] for i in model.I)==1\n",
    "model.cons1=Constraint(model.J,rule=const1)\n",
    "\n",
    "def const2(model,i):\n",
    "    return sum(model.x[i,j] for j in model.J)==1\n",
    "model.cons2=Constraint(model.I,rule=const2)"
   ]
  },
  {
   "cell_type": "code",
   "execution_count": 17,
   "metadata": {
    "collapsed": false
   },
   "outputs": [
    {
     "name": "stdout",
     "output_type": "stream",
     "text": [
      "\n",
      "Problem: \n",
      "- Name: unknown\n",
      "  Lower bound: 14.4275608952\n",
      "  Upper bound: 14.4275608952\n",
      "  Number of objectives: 1\n",
      "  Number of constraints: 7\n",
      "  Number of variables: 10\n",
      "  Number of nonzeros: 19\n",
      "  Sense: maximize\n",
      "Solver: \n",
      "- Status: ok\n",
      "  Termination condition: optimal\n",
      "  Statistics: \n",
      "    Branch and bound: \n",
      "      Number of bounded subproblems: 1\n",
      "      Number of created subproblems: 1\n",
      "  Error rc: 0\n",
      "  Time: 0.0160000324249\n",
      "Solution: \n",
      "- number of solutions: 0\n",
      "  number of solutions displayed: 0\n",
      "\n",
      "14.4275608952\n",
      "1.0\n",
      "1.0\n"
     ]
    }
   ],
   "source": [
    "instance=model.create_instance()\n",
    "results=opt.solve(instance)\n",
    "print(results)\n",
    "print(instance.OBJ())\n",
    "print(instance.x[1,1].value)\n",
    "a=instance.x[1,1].value\n",
    "print(a)"
   ]
  },
  {
   "cell_type": "code",
   "execution_count": 19,
   "metadata": {
    "collapsed": false
   },
   "outputs": [
    {
     "name": "stdout",
     "output_type": "stream",
     "text": [
      "[ 18.34537607  26.34436549  15.84958026  21.75736834  24.46335496\n",
      "  13.61576668  22.17875351  21.12932313  17.40423594  15.79620972]\n"
     ]
    }
   ],
   "source": [
    "OF_vec=np.zeros(10)\n",
    "for cont in range(0,10):\n",
    "    w=np.random.uniform(0,10,([n,m]))\n",
    "    instance=model.create_instance() \n",
    "    opt.solve(instance)\n",
    "    OF_vec[cont]=instance.OBJ()\n",
    "print(OF_vec)\n",
    "    "
   ]
  },
  {
   "cell_type": "code",
   "execution_count": 20,
   "metadata": {
    "collapsed": false
   },
   "outputs": [
    {
     "data": {
      "text/plain": [
       "[<matplotlib.lines.Line2D at 0xa8e1a90>]"
      ]
     },
     "execution_count": 20,
     "metadata": {},
     "output_type": "execute_result"
    },
    {
     "data": {
      "image/png": "[encoded data removed]",
      "text/plain": [
       "<matplotlib.figure.Figure at 0xab557f0>"
      ]
     },
     "metadata": {},
     "output_type": "display_data"
    }
   ],
   "source": [
    "%matplotlib inline\n",
    "import matplotlib.pyplot as plt\n",
    "\n",
    "plt.plot(OF_vec)"
   ]
  },
  {
   "cell_type": "code",
   "execution_count": null,
   "metadata": {
    "collapsed": false
   },
   "outputs": [],
   "source": []
  },
  {
   "cell_type": "code",
   "execution_count": null,
   "metadata": {
    "collapsed": true
   },
   "outputs": [],
   "source": []
  }
 ],
 "metadata": {
  "kernelspec": {
   "display_name": "Python [default]",
   "language": "python",
   "name": "python2"
  },
  "language_info": {
   "codemirror_mode": {
    "name": "ipython",
    "version": 2
   },
   "file_extension": ".py",
   "mimetype": "text/x-python",
   "name": "python",
   "nbconvert_exporter": "python",
   "pygments_lexer": "ipython2",
   "version": "2.7.12"
  }
 },
 "nbformat": 4,
 "nbformat_minor": 0
}
