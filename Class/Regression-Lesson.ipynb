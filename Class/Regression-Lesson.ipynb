{
 "cells": [
  {
   "cell_type": "markdown",
   "metadata": {},
   "source": [
    "## Least Squared Linear Regression"
   ]
  },
  {
   "cell_type": "markdown",
   "metadata": {},
   "source": [
    "Generate random data for the model:\n",
    "$$y=\\beta_{0}+\\beta_{1}x_1+\\dots+\\beta_{n}x_n+e$$\n",
    "where $e\\sim N(0,\\sigma^{2})$"
   ]
  },
  {
   "cell_type": "code",
   "execution_count": 15,
   "metadata": {
    "collapsed": false
   },
   "outputs": [
    {
     "name": "stdout",
     "output_type": "stream",
     "text": [
      "[[  4]\n",
      " [  1]\n",
      " [-10]\n",
      " [  2]\n",
      " [  1]\n",
      " [ -5]\n",
      " [ -5]\n",
      " [ -1]\n",
      " [  2]\n",
      " [ -2]\n",
      " [ -7]]\n"
     ]
    }
   ],
   "source": [
    "%matplotlib notebook\n",
    "import numpy as np\n",
    "import time\n",
    "\n",
    "nsample = 200\n",
    "nvariables=10\n",
    "X0 = np.ones([nsample,1]) #the firt column are ones for the beta_0\n",
    "X1 = np.random.uniform(0,10,([nsample,nvariables]))\n",
    "X = np.concatenate([X0, X1],axis=1)\n",
    "beta=np.random.randint(-10,10,size=([nvariables+1,1]));beta\n",
    "error=np.random.normal(0,1,(nsample,1))#normal random error\n",
    "Y=np.dot(X,beta)+error\n",
    "print(beta)\n",
    "#error=np.random.normal(0,1,(nsample,1))#normal random error\n",
    "#Y=X*beta+error"
   ]
  },
  {
   "cell_type": "markdown",
   "metadata": {},
   "source": [
    "We can plot with respect to any of the variables:"
   ]
  },
  {
   "cell_type": "code",
   "execution_count": 16,
   "metadata": {
    "collapsed": false
   },
   "outputs": [
    {
     "data": {
      "text/plain": [
       "(<matplotlib.collections.PathCollection at 0x10a8a9510>,\n",
       " <matplotlib.text.Text at 0x1105959d0>,\n",
       " <matplotlib.text.Text at 0x1105bd050>)"
      ]
     },
     "execution_count": 16,
     "metadata": {},
     "output_type": "execute_result"
    },
    {
     "data": {
      "image/png": "[encoded data removed]",
      "text/plain": [
       "<matplotlib.figure.Figure at 0x11057ead0>"
      ]
     },
     "metadata": {},
     "output_type": "display_data"
    }
   ],
   "source": [
    "import matplotlib.pyplot as plt\n",
    "%matplotlib inline\n",
    "Y_p=np.array(Y)#convert to array for ploting\n",
    "plt.scatter(X[:,1], Y_p),plt.xlabel('X1'),plt.ylabel('Y_p')"
   ]
  },
  {
   "cell_type": "markdown",
   "metadata": {
    "collapsed": true
   },
   "source": [
    "Fit a linear relation between a set of variables ($X$) with respect to a response variable ($y$)\n",
    "\n",
    "Model: $y = X\\beta + u$\n",
    "\n",
    "Classical estimation: least squares\n",
    "\n",
    "  \\begin{align*}\n",
    "\\text{minimize}\\quad & ||y-X\\beta||_2^2\n",
    "\\end{align*}"
   ]
  },
  {
   "cell_type": "markdown",
   "metadata": {},
   "source": [
    "The exact solution is: $\\beta_{ls}=(X^T X)^{-1}X^T y$"
   ]
  },
  {
   "cell_type": "code",
   "execution_count": 17,
   "metadata": {
    "collapsed": false
   },
   "outputs": [
    {
     "name": "stdout",
     "output_type": "stream",
     "text": [
      "('time elapsed=', 0.0007009999999922911)\n",
      "[[ 4.56706807]\n",
      " [ 0.98971797]\n",
      " [-9.99861436]\n",
      " [ 1.99014649]\n",
      " [ 0.98427922]\n",
      " [-5.03943485]\n",
      " [-5.00510469]\n",
      " [-1.00355132]\n",
      " [ 1.99220642]\n",
      " [-1.9993005 ]\n",
      " [-7.01530369]]\n"
     ]
    }
   ],
   "source": [
    "time_start = time.clock()\n",
    "beta_ls_exact=np.dot(np.dot(np.linalg.inv(np.dot(np.transpose(X),X)),np.transpose(X)),Y)\n",
    "time_elapsed = (time.clock() - time_start)\n",
    "print('time elapsed=',time_elapsed)\n",
    "print(beta_ls_exact)"
   ]
  },
  {
   "cell_type": "markdown",
   "metadata": {},
   "source": [
    "We now compute the least squares problem:"
   ]
  },
  {
   "cell_type": "code",
   "execution_count": 18,
   "metadata": {
    "collapsed": false
   },
   "outputs": [
    {
     "name": "stdout",
     "output_type": "stream",
     "text": [
      "Warning: Maximum number of function evaluations has been exceeded.\n",
      "('time elapsed=', 0.31126599999998916)\n",
      "[  4.58160976  -1.01675484 -10.76572205  -0.05260404  -3.04218375\n",
      "  -3.55079743   0.21746668   0.98217229   3.16411878  -2.91287509\n",
      "  -6.67277494]\n",
      "('error=', 0.50807512195617921)\n"
     ]
    }
   ],
   "source": [
    "from scipy.optimize import minimize\n",
    "\n",
    "\n",
    "def least_sq_reg(beta_ls, X, Y):\n",
    "    beta_ls = np.matrix(beta_ls)\n",
    "    z = Y - X*np.transpose(beta_ls)\n",
    "    return np.dot(np.transpose(z),z)\n",
    "\n",
    "beta_ls0 = np.zeros(nvariables+1) # define initial point as zero\n",
    "time_start = time.clock()\n",
    "res = minimize(least_sq_reg,beta_ls0,args=(X,Y),method='Nelder-Mead',options={'disp': True,'xtol':1e-10}) # X and Y must be defined as arguments, beta is the variable\n",
    "time_elapsed = (time.clock() - time_start)\n",
    "print('time elapsed=',time_elapsed)\n",
    "print (res.x) \n",
    "print('error=',np.linalg.norm(np.transpose(beta_ls_exact)-res.x,ord=2)/np.linalg.norm(np.transpose(beta_ls_exact),ord=2))"
   ]
  },
  {
   "cell_type": "markdown",
   "metadata": {},
   "source": [
    "We can use method that automatically computes the gradient:"
   ]
  },
  {
   "cell_type": "code",
   "execution_count": 26,
   "metadata": {
    "collapsed": false
   },
   "outputs": [
    {
     "name": "stdout",
     "output_type": "stream",
     "text": [
      "Optimization terminated successfully.\n",
      "         Current function value: 207.693032\n",
      "         Iterations: 25\n",
      "         Function evaluations: 2662\n",
      "('time elapsed=', 0.708746000000005)\n",
      "[[ 4.56719218  0.9897247  -9.99860922  1.99012581  0.98427819 -5.0394254\n",
      "  -5.0051134  -1.00355548  1.99222005 -1.99932075 -7.01532076]]\n",
      "('error=', 8.4921225331580816e-06)\n"
     ]
    }
   ],
   "source": [
    "time_start = time.clock()\n",
    "res = minimize(least_sq_reg,beta_ls0,args=(X,Y),method='Powell',options={'disp': True}) \n",
    "time_elapsed = (time.clock() - time_start) \n",
    "print('time elapsed=',time_elapsed)\n",
    "\n",
    "print(res.x)\n",
    "#print(res.hess_inv)\n",
    "print('error=',np.linalg.norm(np.transpose(beta_ls_exact)-res.x,ord=2)/np.linalg.norm(np.transpose(beta_ls_exact),ord=2))"
   ]
  },
  {
   "cell_type": "markdown",
   "metadata": {},
   "source": [
    "Or introduce ourselves the gradient and hessian information:"
   ]
  },
  {
   "cell_type": "code",
   "execution_count": 27,
   "metadata": {
    "collapsed": false
   },
   "outputs": [
    {
     "ename": "AttributeError",
     "evalue": "'module' object has no attribute 'sqeeze'",
     "output_type": "error",
     "traceback": [
      "\u001b[0;31m---------------------------------------------------------------------------\u001b[0m",
      "\u001b[0;31mAttributeError\u001b[0m                            Traceback (most recent call last)",
      "\u001b[0;32m<ipython-input-27-7006eecd2f4d>\u001b[0m in \u001b[0;36m<module>\u001b[0;34m()\u001b[0m\n\u001b[1;32m     13\u001b[0m \u001b[0;31m#run your code\u001b[0m\u001b[0;34m\u001b[0m\u001b[0;34m\u001b[0m\u001b[0m\n\u001b[1;32m     14\u001b[0m \u001b[0;34m\u001b[0m\u001b[0m\n\u001b[0;32m---> 15\u001b[0;31m \u001b[0mres\u001b[0m \u001b[0;34m=\u001b[0m \u001b[0mminimize\u001b[0m\u001b[0;34m(\u001b[0m\u001b[0mleast_sq_reg\u001b[0m\u001b[0;34m,\u001b[0m\u001b[0mbeta_ls0\u001b[0m\u001b[0;34m,\u001b[0m\u001b[0margs\u001b[0m\u001b[0;34m=\u001b[0m\u001b[0;34m(\u001b[0m\u001b[0mX\u001b[0m\u001b[0;34m,\u001b[0m\u001b[0mY\u001b[0m\u001b[0;34m)\u001b[0m\u001b[0;34m,\u001b[0m\u001b[0mmethod\u001b[0m\u001b[0;34m=\u001b[0m\u001b[0;34m'Newton-CG'\u001b[0m\u001b[0;34m,\u001b[0m\u001b[0mjac\u001b[0m\u001b[0;34m=\u001b[0m\u001b[0mleast_sq_reg_der\u001b[0m\u001b[0;34m,\u001b[0m\u001b[0mhess\u001b[0m\u001b[0;34m=\u001b[0m\u001b[0mleast_sq_reg_hess\u001b[0m\u001b[0;34m,\u001b[0m\u001b[0moptions\u001b[0m\u001b[0;34m=\u001b[0m\u001b[0;34m{\u001b[0m\u001b[0;34m'disp'\u001b[0m\u001b[0;34m:\u001b[0m \u001b[0mTrue\u001b[0m\u001b[0;34m}\u001b[0m\u001b[0;34m)\u001b[0m\u001b[0;34m\u001b[0m\u001b[0m\n\u001b[0m\u001b[1;32m     16\u001b[0m \u001b[0mtime_elapsed\u001b[0m \u001b[0;34m=\u001b[0m \u001b[0;34m(\u001b[0m\u001b[0mtime\u001b[0m\u001b[0;34m.\u001b[0m\u001b[0mclock\u001b[0m\u001b[0;34m(\u001b[0m\u001b[0;34m)\u001b[0m \u001b[0;34m-\u001b[0m \u001b[0mtime_start\u001b[0m\u001b[0;34m)\u001b[0m\u001b[0;34m\u001b[0m\u001b[0m\n\u001b[1;32m     17\u001b[0m \u001b[0;32mprint\u001b[0m\u001b[0;34m(\u001b[0m\u001b[0;34m'time elapsed='\u001b[0m\u001b[0;34m,\u001b[0m\u001b[0mtime_elapsed\u001b[0m\u001b[0;34m)\u001b[0m\u001b[0;34m\u001b[0m\u001b[0m\n",
      "\u001b[0;32m/Users/Emilie/anaconda/lib/python2.7/site-packages/scipy/optimize/_minimize.pyc\u001b[0m in \u001b[0;36mminimize\u001b[0;34m(fun, x0, args, method, jac, hess, hessp, bounds, constraints, tol, callback, options)\u001b[0m\n\u001b[1;32m    445\u001b[0m     \u001b[0;32melif\u001b[0m \u001b[0mmeth\u001b[0m \u001b[0;34m==\u001b[0m \u001b[0;34m'newton-cg'\u001b[0m\u001b[0;34m:\u001b[0m\u001b[0;34m\u001b[0m\u001b[0m\n\u001b[1;32m    446\u001b[0m         return _minimize_newtoncg(fun, x0, args, jac, hess, hessp, callback,\n\u001b[0;32m--> 447\u001b[0;31m                                   **options)\n\u001b[0m\u001b[1;32m    448\u001b[0m     \u001b[0;32melif\u001b[0m \u001b[0mmeth\u001b[0m \u001b[0;34m==\u001b[0m \u001b[0;34m'l-bfgs-b'\u001b[0m\u001b[0;34m:\u001b[0m\u001b[0;34m\u001b[0m\u001b[0m\n\u001b[1;32m    449\u001b[0m         return _minimize_lbfgsb(fun, x0, args, jac, bounds,\n",
      "\u001b[0;32m/Users/Emilie/anaconda/lib/python2.7/site-packages/scipy/optimize/optimize.pyc\u001b[0m in \u001b[0;36m_minimize_newtoncg\u001b[0;34m(fun, x0, args, jac, hess, hessp, callback, xtol, eps, maxiter, disp, return_all, **unknown_options)\u001b[0m\n\u001b[1;32m   1467\u001b[0m         \u001b[0;31m# Compute a search direction pk by applying the CG method to\u001b[0m\u001b[0;34m\u001b[0m\u001b[0;34m\u001b[0m\u001b[0m\n\u001b[1;32m   1468\u001b[0m         \u001b[0;31m#  del2 f(xk) p = - grad f(xk) starting from 0.\u001b[0m\u001b[0;34m\u001b[0m\u001b[0;34m\u001b[0m\u001b[0m\n\u001b[0;32m-> 1469\u001b[0;31m         \u001b[0mb\u001b[0m \u001b[0;34m=\u001b[0m \u001b[0;34m-\u001b[0m\u001b[0mfprime\u001b[0m\u001b[0;34m(\u001b[0m\u001b[0mxk\u001b[0m\u001b[0;34m)\u001b[0m\u001b[0;34m\u001b[0m\u001b[0m\n\u001b[0m\u001b[1;32m   1470\u001b[0m         \u001b[0mmaggrad\u001b[0m \u001b[0;34m=\u001b[0m \u001b[0mnumpy\u001b[0m\u001b[0;34m.\u001b[0m\u001b[0madd\u001b[0m\u001b[0;34m.\u001b[0m\u001b[0mreduce\u001b[0m\u001b[0;34m(\u001b[0m\u001b[0mnumpy\u001b[0m\u001b[0;34m.\u001b[0m\u001b[0mabs\u001b[0m\u001b[0;34m(\u001b[0m\u001b[0mb\u001b[0m\u001b[0;34m)\u001b[0m\u001b[0;34m)\u001b[0m\u001b[0;34m\u001b[0m\u001b[0m\n\u001b[1;32m   1471\u001b[0m         \u001b[0meta\u001b[0m \u001b[0;34m=\u001b[0m \u001b[0mnumpy\u001b[0m\u001b[0;34m.\u001b[0m\u001b[0mmin\u001b[0m\u001b[0;34m(\u001b[0m\u001b[0;34m[\u001b[0m\u001b[0;36m0.5\u001b[0m\u001b[0;34m,\u001b[0m \u001b[0mnumpy\u001b[0m\u001b[0;34m.\u001b[0m\u001b[0msqrt\u001b[0m\u001b[0;34m(\u001b[0m\u001b[0mmaggrad\u001b[0m\u001b[0;34m)\u001b[0m\u001b[0;34m]\u001b[0m\u001b[0;34m)\u001b[0m\u001b[0;34m\u001b[0m\u001b[0m\n",
      "\u001b[0;32m/Users/Emilie/anaconda/lib/python2.7/site-packages/scipy/optimize/optimize.pyc\u001b[0m in \u001b[0;36mfunction_wrapper\u001b[0;34m(*wrapper_args)\u001b[0m\n\u001b[1;32m    290\u001b[0m     \u001b[0;32mdef\u001b[0m \u001b[0mfunction_wrapper\u001b[0m\u001b[0;34m(\u001b[0m\u001b[0;34m*\u001b[0m\u001b[0mwrapper_args\u001b[0m\u001b[0;34m)\u001b[0m\u001b[0;34m:\u001b[0m\u001b[0;34m\u001b[0m\u001b[0m\n\u001b[1;32m    291\u001b[0m         \u001b[0mncalls\u001b[0m\u001b[0;34m[\u001b[0m\u001b[0;36m0\u001b[0m\u001b[0;34m]\u001b[0m \u001b[0;34m+=\u001b[0m \u001b[0;36m1\u001b[0m\u001b[0;34m\u001b[0m\u001b[0m\n\u001b[0;32m--> 292\u001b[0;31m         \u001b[0;32mreturn\u001b[0m \u001b[0mfunction\u001b[0m\u001b[0;34m(\u001b[0m\u001b[0;34m*\u001b[0m\u001b[0;34m(\u001b[0m\u001b[0mwrapper_args\u001b[0m \u001b[0;34m+\u001b[0m \u001b[0margs\u001b[0m\u001b[0;34m)\u001b[0m\u001b[0;34m)\u001b[0m\u001b[0;34m\u001b[0m\u001b[0m\n\u001b[0m\u001b[1;32m    293\u001b[0m \u001b[0;34m\u001b[0m\u001b[0m\n\u001b[1;32m    294\u001b[0m     \u001b[0;32mreturn\u001b[0m \u001b[0mncalls\u001b[0m\u001b[0;34m,\u001b[0m \u001b[0mfunction_wrapper\u001b[0m\u001b[0;34m\u001b[0m\u001b[0m\n",
      "\u001b[0;32m<ipython-input-27-7006eecd2f4d>\u001b[0m in \u001b[0;36mleast_sq_reg_der\u001b[0;34m(beta_ls, X, Y)\u001b[0m\n\u001b[1;32m      2\u001b[0m     \u001b[0mbeta_ls\u001b[0m \u001b[0;34m=\u001b[0m \u001b[0mnp\u001b[0m\u001b[0;34m.\u001b[0m\u001b[0mmatrix\u001b[0m\u001b[0;34m(\u001b[0m\u001b[0mbeta_ls\u001b[0m\u001b[0;34m)\u001b[0m\u001b[0;34m\u001b[0m\u001b[0m\n\u001b[1;32m      3\u001b[0m     \u001b[0mpp\u001b[0m\u001b[0;34m=\u001b[0m\u001b[0;34m-\u001b[0m\u001b[0;36m2\u001b[0m\u001b[0;34m*\u001b[0m\u001b[0mnp\u001b[0m\u001b[0;34m.\u001b[0m\u001b[0mdot\u001b[0m\u001b[0;34m(\u001b[0m\u001b[0mnp\u001b[0m\u001b[0;34m.\u001b[0m\u001b[0mtranspose\u001b[0m\u001b[0;34m(\u001b[0m\u001b[0mY\u001b[0m\u001b[0;34m-\u001b[0m\u001b[0mnp\u001b[0m\u001b[0;34m.\u001b[0m\u001b[0mdot\u001b[0m\u001b[0;34m(\u001b[0m\u001b[0mX\u001b[0m\u001b[0;34m,\u001b[0m\u001b[0mnp\u001b[0m\u001b[0;34m.\u001b[0m\u001b[0mtranspose\u001b[0m\u001b[0;34m(\u001b[0m\u001b[0mbeta_ls\u001b[0m\u001b[0;34m)\u001b[0m\u001b[0;34m)\u001b[0m\u001b[0;34m)\u001b[0m\u001b[0;34m,\u001b[0m\u001b[0mX\u001b[0m\u001b[0;34m)\u001b[0m \u001b[0;31m# defines the gradient matrix (Jacobian)\u001b[0m\u001b[0;34m\u001b[0m\u001b[0m\n\u001b[0;32m----> 4\u001b[0;31m     \u001b[0;32mreturn\u001b[0m \u001b[0mnp\u001b[0m\u001b[0;34m.\u001b[0m\u001b[0msqeeze\u001b[0m\u001b[0;34m(\u001b[0m\u001b[0mnp\u001b[0m\u001b[0;34m.\u001b[0m\u001b[0masarray\u001b[0m\u001b[0;34m(\u001b[0m\u001b[0mpp\u001b[0m\u001b[0;34m)\u001b[0m\u001b[0;34m)\u001b[0m\u001b[0;34m\u001b[0m\u001b[0m\n\u001b[0m\u001b[1;32m      5\u001b[0m \u001b[0;34m\u001b[0m\u001b[0m\n\u001b[1;32m      6\u001b[0m \u001b[0;32mdef\u001b[0m \u001b[0mleast_sq_reg_hess\u001b[0m\u001b[0;34m(\u001b[0m\u001b[0mbeta_ls\u001b[0m\u001b[0;34m,\u001b[0m\u001b[0mX\u001b[0m\u001b[0;34m,\u001b[0m\u001b[0mY\u001b[0m\u001b[0;34m)\u001b[0m\u001b[0;34m:\u001b[0m\u001b[0;34m\u001b[0m\u001b[0m\n",
      "\u001b[0;31mAttributeError\u001b[0m: 'module' object has no attribute 'sqeeze'"
     ]
    }
   ],
   "source": [
    "def least_sq_reg_der(beta_ls,X,Y):\n",
    "    beta_ls = np.matrix(beta_ls)\n",
    "    pp=-2*np.dot(np.transpose(Y-np.dot(X,np.transpose(beta_ls))),X) # defines the gradient matrix (Jacobian)\n",
    "    return np.sqeeze(np.asarray(pp))\n",
    "\n",
    "def least_sq_reg_hess(beta_ls,X,Y):\n",
    "    return 2*np.dot(np.transpose(X),X) # defines the hessian matrix\n",
    "\n",
    "\n",
    "\n",
    "time_start = time.clock()\n",
    "#run your code\n",
    "                   \n",
    "res = minimize(least_sq_reg,beta_ls0,args=(X,Y),method='Newton-CG',jac=least_sq_reg_der,hess=least_sq_reg_hess,options={'disp': True}) \n",
    "time_elapsed = (time.clock() - time_start) \n",
    "print('time elapsed=',time_elapsed)\n",
    "print(res.x)\n",
    "np.linalg.inv(least_sq_reg_hess(res.x,X,Y))\n",
    "print('error=',np.linalg.norm(np.transpose(beta_ls_exact)-res.x,ord=2)/np.linalg.norm(np.transpose(beta_ls_exact),ord=2))\n",
    "   "
   ]
  },
  {
   "cell_type": "markdown",
   "metadata": {},
   "source": [
    "## Lasso Regression"
   ]
  },
  {
   "cell_type": "markdown",
   "metadata": {},
   "source": [
    "$L_1$ regularization: sparse solutions\n",
    "\n",
    "  \\begin{align*}\n",
    "\\text{minimize}\\quad & ||y-X\\beta||_2^2 + \\rho ||\\beta||_1\n",
    "\\end{align*}\n",
    "\n",
    "No explicit solution\n",
    "\n",
    "Lets try to formulate it directly:\n",
    "\n"
   ]
  },
  {
   "cell_type": "code",
   "execution_count": 4,
   "metadata": {
    "collapsed": true
   },
   "outputs": [
    {
     "ename": "IndentationError",
     "evalue": "expected an indented block (<ipython-input-4-9e1622fed69b>, line 6)",
     "output_type": "error",
     "traceback": [
      "\u001b[1;36m  File \u001b[1;32m\"<ipython-input-4-9e1622fed69b>\"\u001b[1;36m, line \u001b[1;32m6\u001b[0m\n\u001b[1;33m    beta_lb0 = np.zeros(nvariables+1)\u001b[0m\n\u001b[1;37m           ^\u001b[0m\n\u001b[1;31mIndentationError\u001b[0m\u001b[1;31m:\u001b[0m expected an indented block\n"
     ]
    }
   ],
   "source": [
    "\n",
    "\n",
    "def lasso_reg_brute(beta_lb,X,Y,rho):\n",
    "    ########################################3\n",
    "\n",
    "beta_lb0 = np.zeros(nvariables+1)\n",
    "rho=1\n",
    "\n",
    "time_start = time.clock()\n",
    "res = #####################################################\n",
    "time_elapsed = (time.clock() - time_start)\n",
    "print('time elapsed=',time_elapsed)\n",
    "print(res.x)"
   ]
  },
  {
   "cell_type": "markdown",
   "metadata": {},
   "source": [
    "Non-differentiable problem. Equivalent (differentiable) formulation:\n",
    "\\begin{align*}\n",
    "\\text{minimize}_{t,\\beta}\\quad & ||y-X\\beta||_2^2 + \\rho t^T e \\\\\n",
    "\\text{subject to}\\quad  & -t\\leq \\beta \\leq t \\\\\n",
    "\\quad & t\\geq 0\n",
    "\\end{align*}"
   ]
  },
  {
   "cell_type": "code",
   "execution_count": 23,
   "metadata": {
    "collapsed": true
   },
   "outputs": [
    {
     "name": "stdout",
     "output_type": "stream",
     "text": [
      "Optimization terminated successfully.    (Exit mode 0)\n",
      "            Current function value: [[ 111.00421182]]\n",
      "            Iterations: 31\n",
      "            Function evaluations: 482\n",
      "            Gradient evaluations: 30\n",
      "time elapsed= 0.05259774917442428\n",
      "[ 0.70001576  7.00692824 -1.95515849 -3.00719859 -2.97505986  3.98870702]\n"
     ]
    }
   ],
   "source": [
    "#definition of the objective function\n",
    "def lasso_reg(x,X,Y,rho):    \n",
    "    (a,b)=X.shape\n",
    "    b_reg=np.matrix(x[0:b]) #lasso coeficient equivalent to '\\beta'\n",
    "    b_lasso=np.matrix(x[b:2*b]) #Regression coefficients equivalent to 't'\n",
    "    z=Y-X*np.transpose(b_reg)\n",
    "    return np.transpose(z)*z+rho*np.sum(b_lasso)  \n",
    "\n",
    "(a,b)=X.shape\n",
    "cons = ({'type': 'ineq','fun' : lambda x: x[0:b]+x[b:2*b]},\n",
    "        {'type': 'ineq','fun' : lambda x: -x[0:b]+x[b:2*b]},    \n",
    "        {'type': 'ineq','fun' : lambda x: x[b:2*b]})\n",
    "rho=1\n",
    "#x0=([0, 0, 0, 0, 0, 0, 0, 0])\n",
    "x0=np.zeros(2*(nvariables+1))\n",
    "time_start = time.clock()\n",
    "res = minimize(lasso_reg,x0, args=(X,Y,rho), method='SLSQP',constraints=cons, options={'disp': True,'ftol': 1e-10})\n",
    "time_elapsed = (time.clock() - time_start)\n",
    "print('time elapsed=',time_elapsed)\n",
    "print (res.x[0:b]) "
   ]
  },
  {
   "cell_type": "code",
   "execution_count": null,
   "metadata": {
    "collapsed": false
   },
   "outputs": [],
   "source": []
  }
 ],
 "metadata": {
  "anaconda-cloud": {},
  "kernelspec": {
   "display_name": "Python [default]",
   "language": "python",
   "name": "python2"
  },
  "language_info": {
   "codemirror_mode": {
    "name": "ipython",
    "version": 2
   },
   "file_extension": ".py",
   "mimetype": "text/x-python",
   "name": "python",
   "nbconvert_exporter": "python",
   "pygments_lexer": "ipython2",
   "version": "2.7.12"
  }
 },
 "nbformat": 4,
 "nbformat_minor": 0
}
