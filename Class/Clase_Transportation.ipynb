{
 "cells": [
  {
   "cell_type": "markdown",
   "metadata": {},
   "source": [
    "# Transportation Problem\n",
    "\n",
    "\n",
    "\n",
    "Optimal transportation scheme between the factories and the markets?\n",
    "\n",
    "Minimize total transportation costs\n",
    "\n",
    "  Distance      | M1 | M2 | M3 | offer\n",
    "  --------------|-----|---|----|--\n",
    "  F1  | 2.5 | 1.7 | 1.8 | 350\n",
    "  F2  | 2.5 | 1.7 | 1.8 | 350\n",
    "  demand  | 325 | 300 | 275 |\n",
    "\n",
    "\\begin{align*}\n",
    "\\underset{x_{11},x_{12},\\ldots,x_{23}}{\\rm{\\min}} & \\quad 90\\times 2.5\\times \\ x_{11}+90\\times 1.7\\times \\\n",
    "x_{12}+ \\cdots + 90\\times 1.4\\times \\ x_{23}\\\\\n",
    "\\rm{s.t.}&\\\\\n",
    "  &x_{11}+x_{21}\\geq 325 \\\\\n",
    "  &x_{12}+x_{22}\\geq 300 \\\\\n",
    "  &x_{13}+x_{23}\\geq 275\\\\\n",
    "  &x_{11}+x_{12}+x_{13}\\leq 350 \\\\\n",
    "  &x_{21}+x_{22}+x_{23}\\leq 600\\\\\n",
    "  &x_{11},x_{12},\\ldots,x_{23} \\quad \\geq 0\n",
    "\\end{align*}\n"
   ]
  },
  {
   "cell_type": "code",
   "execution_count": 4,
   "metadata": {
    "collapsed": false
   },
   "outputs": [
    {
     "name": "stdout",
     "output_type": "stream",
     "text": [
      "Overwriting transportation.py\n"
     ]
    }
   ],
   "source": [
    "%%writefile transportation.py\n",
    "\n",
    "from __future__ import division \n",
    "from pyomo.environ import *\n",
    "\n"
   ]
  },
  {
   "cell_type": "code",
   "execution_count": null,
   "metadata": {
    "collapsed": false
   },
   "outputs": [],
   "source": []
  },
  {
   "cell_type": "code",
   "execution_count": null,
   "metadata": {
    "collapsed": false
   },
   "outputs": [],
   "source": []
  },
  {
   "cell_type": "code",
   "execution_count": null,
   "metadata": {
    "collapsed": true
   },
   "outputs": [],
   "source": []
  }
 ],
 "metadata": {
  "kernelspec": {
   "display_name": "Python 2",
   "language": "python",
   "name": "python2"
  },
  "language_info": {
   "codemirror_mode": {
    "name": "ipython",
    "version": 2
   },
   "file_extension": ".py",
   "mimetype": "text/x-python",
   "name": "python",
   "nbconvert_exporter": "python",
   "pygments_lexer": "ipython2",
   "version": "2.7.9"
  }
 },
 "nbformat": 4,
 "nbformat_minor": 0
}
