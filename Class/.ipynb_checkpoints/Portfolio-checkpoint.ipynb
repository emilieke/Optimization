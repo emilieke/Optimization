{
 "cells": [
  {
   "cell_type": "markdown",
   "metadata": {},
   "source": [
    "# Portfolio optimization"
   ]
  },
  {
   "cell_type": "markdown",
   "metadata": {},
   "source": [
    "Download csv data from:\n",
    "\n",
    "http://www.google.com/finance/historical?output=csv&q= [COMPANY KEY]"
   ]
  },
  {
   "cell_type": "code",
   "execution_count": 1,
   "metadata": {
    "collapsed": false
   },
   "outputs": [],
   "source": [
    "import csv\n",
    "from __future__ import division \n",
    "import numpy as np\n",
    "import pandas as pd"
   ]
  },
  {
   "cell_type": "markdown",
   "metadata": {},
   "source": [
    "Now we compute the weekly returns for each stock value"
   ]
  },
  {
   "cell_type": "code",
   "execution_count": 2,
   "metadata": {
    "collapsed": false
   },
   "outputs": [
    {
     "data": {
      "text/plain": [
       "array([ 0.04008257, -0.01304922, -0.01578643, -0.06508378,  0.00304169,\n",
       "       -0.01128628,  0.06203129, -0.02567846,  0.01782372, -0.01270239,\n",
       "        0.00382256,  0.00374231,  0.00937938, -0.00784212,  0.05518669,\n",
       "        0.02321779,  0.01830428, -0.06004384,  0.02220428,  0.00953507,\n",
       "        0.00070749,  0.00908237,  0.01719825,  0.01056176, -0.00207151,\n",
       "       -0.03695769,  0.00159236,  0.01880609, -0.05615053, -0.01405152,\n",
       "       -0.00779528, -0.00994986,  0.0254736 , -0.01707048,  0.02631579,\n",
       "        0.00883088,  0.02901354, -0.02261191, -0.06560339, -0.02382936,\n",
       "       -0.04577703, -0.04879786,  0.01718182,  0.01052824, -0.00248183,\n",
       "       -0.05731697,  0.07285889,  0.04029404,  0.04511013, -0.02447582])"
      ]
     },
     "execution_count": 2,
     "metadata": {},
     "output_type": "execute_result"
    }
   ],
   "source": [
    "import numpy as np\n",
    "\n",
    "\n",
    "data_apple_open=np.array(pd.read_csv('aapl.csv',delimiter=',',usecols=['Open']))\n",
    "data_apple_close=np.array(pd.read_csv('aapl.csv',delimiter=',',usecols=['Close']))\n",
    "\n",
    "data_ebay_open=np.array(pd.read_csv('ebay.csv',delimiter=',',usecols=['Open']))\n",
    "data_ebay_close=np.array(pd.read_csv('ebay.csv',delimiter=',',usecols=['Close']))\n",
    "\n",
    "data_amazon_open=np.array(pd.read_csv('amzn.csv',delimiter=',',usecols=['Open']))\n",
    "data_amazon_close=np.array(pd.read_csv('amzn.csv',delimiter=',',usecols=['Close']))\n",
    "\n",
    "data_microsoft_open=np.array(pd.read_csv('msft.csv',delimiter=',',usecols=['Open']))\n",
    "data_microsoft_close=np.array(pd.read_csv('msft.csv',delimiter=',',usecols=['Close']))\n",
    "\n",
    "\n",
    "cont=-1;\n",
    "n=5;\n",
    "size=len(data_apple_open)\n",
    "data_apple=np.zeros(size//n)\n",
    "data_ebay=np.zeros(size//n)\n",
    "data_amazon=np.zeros(size//n)\n",
    "data_microsoft=np.zeros(size//n)\n",
    "for i in np.linspace(n+1,n*(size//n),size//n):\n",
    "    i=int(i)\n",
    "    if i >n:\n",
    "        cont=cont+1\n",
    "        data_apple[cont]=np.subtract(data_apple_close[i],data_apple_open[i-n])/data_apple_open[i-n]\n",
    "        data_ebay[cont]=(data_ebay_close[i]-data_ebay_open[i-n])/data_ebay_open[i-n]\n",
    "        data_amazon[cont]=(data_amazon_close[i]-data_amazon_open[i-n])/data_amazon_open[i-n]\n",
    "        data_microsoft[cont]=(data_microsoft_close[i]-data_microsoft_open[i-n])/data_microsoft_open[i-n]\n",
    "data_apple"
   ]
  },
  {
   "cell_type": "markdown",
   "metadata": {},
   "source": [
    "Compute the mean return vector $\\mu$ and the covariance matrix $\\Sigma$"
   ]
  },
  {
   "cell_type": "code",
   "execution_count": 3,
   "metadata": {
    "collapsed": false
   },
   "outputs": [
    {
     "name": "stdout",
     "output_type": "stream",
     "text": [
      "[-0.00088973  0.0242455  -0.0142025   0.00066933]\n",
      "[[  1.04152842e-03   9.44271695e-04   7.17481572e-04   5.15708614e-04]\n",
      " [  9.44271695e-04   3.59933459e-02  -6.58612794e-05   1.46089683e-03]\n",
      " [  7.17481572e-04  -6.58612794e-05   1.28670205e-03   4.33891329e-04]\n",
      " [  5.15708614e-04   1.46089683e-03   4.33891329e-04   1.48533899e-03]]\n"
     ]
    }
   ],
   "source": [
    "import numpy as np\n",
    "#compute mean value vector\n",
    "mu=np.mean([data_apple,data_ebay,data_amazon,data_microsoft],axis=1)\n",
    "print(mu)\n",
    "#compute covarianze matrix\n",
    "covar=np.matrix(np.cov([data_apple,data_ebay,data_amazon,data_microsoft]))\n",
    "print(covar)"
   ]
  },
  {
   "cell_type": "markdown",
   "metadata": {},
   "source": [
    "We solve the portfolio optimization problem \n",
    "\n",
    "\\begin{align*}\n",
    "\\text{maximize}_x\\quad & \\mu^T x - \\frac{1}{2}\\ \\gamma\\ x^T \\Sigma x \\\\\n",
    "\\text{subject to}\\quad  & \\sum x_i = 1,\n",
    "\\end{align*}\n"
   ]
  },
  {
   "cell_type": "code",
   "execution_count": 4,
   "metadata": {
    "collapsed": false,
    "scrolled": true
   },
   "outputs": [
    {
     "name": "stdout",
     "output_type": "stream",
     "text": [
      "Optimization terminated successfully.    (Exit mode 0)\n",
      "            Current function value: [[-0.03139668]]\n",
      "            Iterations: 15\n",
      "            Function evaluations: 90\n",
      "            Gradient evaluations: 15\n",
      "[ 4.38578348  0.10306454 -4.91170621  1.42285819]\n"
     ]
    }
   ],
   "source": [
    "from scipy.optimize import minimize\n",
    "\n",
    "def portfolio(x, mu, covar, gamma):\n",
    "    return -np.dot(x,mu)+0.5*gamma*np.dot(np.dot(x,covar),x)    \n",
    "\n",
    "cons = ({'type': 'eq','fun' : lambda x: sum(x)-1})\n",
    "bnds = ((0, 1), (0, 1), (0, 1), (0, 1))\n",
    "gamma=3\n",
    "x0 = np.array([0, 0, 0, 0])\n",
    "\n",
    "res = minimize(portfolio, x0, args=(mu, covar, gamma), method='SLSQP', constraints=cons, options={'disp': True,'ftol': 1e-10})\n",
    "#res = minimize(portfolio, x0, args=(mu, covar, gamma), method='SLSQP', constraints=cons, bounds=bnds, options={'disp': True,'ftol': 1e-10})\n",
    "print (res.x) "
   ]
  },
  {
   "cell_type": "markdown",
   "metadata": {
    "collapsed": true
   },
   "source": [
    "From KKT conditions, the solution is:\n",
    "$$\n",
    "    x^* = \\frac{1}{\\gamma}\\Sigma^{-1}\\mu - \\frac{\\lambda_{\\gamma}}{\\gamma}\\Sigma^{-1} e,\n",
    "$$\n",
    "where $\\lambda_{\\gamma} = \\frac{\\mu^T \\Sigma^{-1} e - \\gamma}{e^T \\Sigma^{-1} e}$\n"
   ]
  },
  {
   "cell_type": "code",
   "execution_count": 5,
   "metadata": {
    "collapsed": false
   },
   "outputs": [
    {
     "name": "stdout",
     "output_type": "stream",
     "text": [
      "[[-0.00651462]]\n",
      "[[ 4.38579003  0.10307012 -4.91172826  1.42286811]]\n"
     ]
    }
   ],
   "source": [
    "lambda_opt=(np.dot(np.dot(mu,np.linalg.inv(covar)),np.ones(mu.shape))-gamma)/np.dot(np.dot(np.ones(mu.shape),np.linalg.inv(covar)),np.ones(mu.shape))\n",
    "x_opt=(1/gamma)*np.dot(np.linalg.inv(covar),mu)-(1/gamma)*np.dot(lambda_opt,np.dot(np.linalg.inv(covar),np.ones(mu.shape)))\n",
    "print(lambda_opt)\n",
    "print(x_opt)"
   ]
  },
  {
   "cell_type": "markdown",
   "metadata": {},
   "source": [
    "We  can plot the efficient frontier:"
   ]
  },
  {
   "cell_type": "code",
   "execution_count": 6,
   "metadata": {
    "collapsed": false
   },
   "outputs": [],
   "source": [
    "nmax=1000;\n",
    "expec_vector=np.zeros(nmax)\n",
    "risk_vector=np.zeros(nmax)\n",
    "cont=-1\n",
    "cons = ({'type': 'eq','fun' : lambda x: sum(x)-1})\n",
    "bnds = ((0, 1), (0, 1), (0, 1), (0, 1)) #incluyo reestricciones\n",
    "for gamma in np.linspace(1,100,nmax):\n",
    "    cont=cont+1\n",
    "    x0 = np.array([0, 0, 0, 0])\n",
    "    res = minimize(portfolio, x0, args=(mu, covar, gamma), method='SLSQP', constraints=cons,bounds=bnds, options={'disp': False,'ftol': 1e-15})  \n",
    "    x_opt=np.array(res.x)\n",
    "    mu=np.array(mu)\n",
    "    expec_vector[cont]=np.dot(mu,x_opt.T)\n",
    "    risk_vector[cont]=np.dot(np.dot(x_opt,covar),x_opt.T)\n"
   ]
  },
  {
   "cell_type": "code",
   "execution_count": 7,
   "metadata": {
    "collapsed": false
   },
   "outputs": [
    {
     "data": {
      "text/plain": [
       "(<matplotlib.collections.PathCollection at 0x17940e80>,\n",
       " <matplotlib.text.Text at 0x178c9eb8>,\n",
       " <matplotlib.text.Text at 0x26bd128>)"
      ]
     },
     "execution_count": 7,
     "metadata": {},
     "output_type": "execute_result"
    },
    {
     "data": {
      "image/png": "[encoded data removed]",
      "text/plain": [
       "<matplotlib.figure.Figure at 0x177d72e8>"
      ]
     },
     "metadata": {},
     "output_type": "display_data"
    }
   ],
   "source": [
    "import matplotlib.pyplot as plt\n",
    "%matplotlib inline\n",
    "plt.scatter(risk_vector,expec_vector),plt.ylabel('Expected value'),plt.xlabel('Risk')"
   ]
  },
  {
   "cell_type": "markdown",
   "metadata": {
    "collapsed": false
   },
   "source": [
    "Lest solve it by applying a barrier method:\n",
    "$$\n",
    "\\min_x\\quad  -\\mu^T x + \\frac{1}{2}\\ \\gamma\\ x^T \\Sigma x  + \\frac{\\rho}{2}(x^Te - 1)^2\n",
    "$$\n",
    "\n",
    "$\\rightarrow$ Step 1: initial point $x^{(0)}$, penalization parameter $\\rho_1>0$ and $t=1$. Let $\\epsilon>0$ be the tolerance parameter and $\\eta >1$ a fixed parameter. \n",
    "\n",
    "$\\rightarrow$ Step 2: solve  $\\min_x\\quad  -\\mu^T x + \\frac{1}{2}\\ \\gamma\\ x^T \\Sigma x  + \\frac{\\rho_t}{2}(x^Te - 1)$, by a descent direction method (ex. gradient). Use $x^{(t-1)}$ as initial point. Solution$=x^{(t)}$. \n",
    "\n",
    "$\\rightarrow$ Step 3: if $\\| x^{(t)}-x^{(t-1)}\\|<\\epsilon$ stop. Otherwise go to step 4.\n",
    "\n",
    "$\\rightarrow$ Step 4: $\\rho_{t+1}=\\eta\\rho_{t}$, $t=t+1$, go to step 2.\n",
    "\n",
    "For the gradient method we need the gradient:\n",
    "\n",
    "$$\\nabla f(x)=-\\mu+\\gamma x^T\\Sigma+\\rho(x^Te-1)e$$\n",
    "\n"
   ]
  },
  {
   "cell_type": "markdown",
   "metadata": {
    "collapsed": true
   },
   "source": [
    "Definition of the functions:"
   ]
  },
  {
   "cell_type": "code",
   "execution_count": 8,
   "metadata": {
    "collapsed": true
   },
   "outputs": [],
   "source": [
    "def portfolio_barrier(x, mu, covar, gamma, rho):\n",
    "    return -np.dot(x,mu)+0.5*gamma*np.dot(np.dot(x,covar),x.T)+(rho/2)*((np.sum(x)-1)**2)\n",
    "\n",
    "def portfolio_barrier_grad(x, mu, covar, gamma, rho):\n",
    "    return -mu+gamma*np.dot(x,covar)+rho*(np.sum(x)-1)*np.ones(mu.shape)"
   ]
  },
  {
   "cell_type": "markdown",
   "metadata": {},
   "source": [
    "Algorithm:"
   ]
  },
  {
   "cell_type": "code",
   "execution_count": 9,
   "metadata": {
    "collapsed": false
   },
   "outputs": [
    {
     "name": "stdout",
     "output_type": "stream",
     "text": [
      "('time elapsed=', 59.933534130792616)\n",
      "('iterations', 46)\n",
      "[ 4.08656029  0.10982576 -4.670807    1.47442095]\n",
      "4.71070065249e-09\n"
     ]
    }
   ],
   "source": [
    "import time\n",
    "b=len(mu)\n",
    "x_ini=np.zeros(b) #initial value for x\n",
    "alpha=0.0001\n",
    "n_iter=1000 #maximum number iteration gradient method\n",
    "n_iter_barr=1000 #maximum number iterations barrier algorithm\n",
    "x_iter=np.zeros((b,n_iter_barr))\n",
    "OF_iter=np.zeros(n_iter)\n",
    "tol_iter=np.zeros(n_iter)\n",
    "tol=1000;\n",
    "tol_barr=1000;\n",
    "epsilon=1e-8;#tolerance gradient method\n",
    "epsilon_barr=1e-8;#tolerance barrier method\n",
    "t=1\n",
    "eta=1.5;\n",
    "rho=1;\n",
    "gamma=3;\n",
    "\n",
    "time_start = time.clock()\n",
    "while (t <= n_iter_barr-2) and (tol_barr>epsilon_barr):   \n",
    "    if t==1:\n",
    "        x=x_ini\n",
    "    else:\n",
    "        x=x_iter[:,t-1]\n",
    "    i=0\n",
    "    ################      GRADIENT METHOD    #################################\n",
    "    while (i <= n_iter-2) and (tol>epsilon):\n",
    "        i=i+1\n",
    "        grad=portfolio_barrier_grad(x, mu, covar, gamma, rho)#gradient vector\n",
    "        ddirect=-grad#descent direction\n",
    "        ######Armijo rule to adjust alpha########\n",
    "        sigma = 0.1\n",
    "        beta= 0.5\n",
    "        alpha=1\n",
    "        while (portfolio_barrier(x+alpha*ddirect, mu, covar, gamma, rho) > portfolio_barrier(x, mu, covar, gamma, rho)+alpha*sigma*np.dot(grad,ddirect.T)):\n",
    "            alpha=alpha*beta\n",
    "        #########################################\n",
    "        x=x+alpha*ddirect\n",
    "        tol=np.linalg.norm(grad,ord=2)\n",
    "    ###########################################################################\n",
    "    x_iter[:,t]=x\n",
    "    rho=rho*eta\n",
    "    if t>1:\n",
    "        tol_barr=np.linalg.norm(x_iter[:,t]-x_iter[:,t-1],ord=2)\n",
    "    t=t+1\n",
    "time_elapsed = (time.clock() - time_start) \n",
    "print('time elapsed=',time_elapsed)\n",
    "print('iterations',t)\n",
    "print(x_iter[:,t-1])\n",
    "print(tol_barr)"
   ]
  },
  {
   "cell_type": "code",
   "execution_count": null,
   "metadata": {
    "collapsed": false
   },
   "outputs": [],
   "source": []
  },
  {
   "cell_type": "code",
   "execution_count": null,
   "metadata": {
    "collapsed": true
   },
   "outputs": [],
   "source": []
  }
 ],
 "metadata": {
  "kernelspec": {
   "display_name": "Python [default]",
   "language": "python",
   "name": "python2"
  },
  "language_info": {
   "codemirror_mode": {
    "name": "ipython",
    "version": 2
   },
   "file_extension": ".py",
   "mimetype": "text/x-python",
   "name": "python",
   "nbconvert_exporter": "python",
   "pygments_lexer": "ipython2",
   "version": "2.7.12"
  }
 },
 "nbformat": 4,
 "nbformat_minor": 0
}
