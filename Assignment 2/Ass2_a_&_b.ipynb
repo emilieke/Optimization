{
 "cells": [
  {
   "cell_type": "markdown",
   "metadata": {},
   "source": [
    "Generate random data for the model:\n",
    "$$y=\\beta_{0}+\\beta_{1}x_1+\\dots+\\beta_{n}x_n+e$$\n",
    "where $$e\\sim N(0,\\sigma^{2})$$\n",
    "and $\\beta_{j}$: $$-5\\leq \\beta_{j} \\leq 5$$"
   ]
  },
  {
   "cell_type": "code",
   "execution_count": 29,
   "metadata": {
    "collapsed": false
   },
   "outputs": [
    {
     "name": "stdout",
     "output_type": "stream",
     "text": [
      "[[-1]\n",
      " [-2]\n",
      " [-1]\n",
      " [-5]\n",
      " [-3]\n",
      " [ 1]\n",
      " [ 2]\n",
      " [-4]\n",
      " [ 2]\n",
      " [-5]\n",
      " [ 1]\n",
      " [ 0]\n",
      " [-3]\n",
      " [ 2]\n",
      " [ 0]\n",
      " [ 1]\n",
      " [-2]\n",
      " [ 0]\n",
      " [-4]\n",
      " [ 3]\n",
      " [-1]]\n"
     ]
    }
   ],
   "source": [
    "import numpy as np\n",
    "nsample=500     #Number of observations\n",
    "nvariables=20   #Number of variables\n",
    "#We make results reproducible in order to obtain always the same random values\n",
    "np.random.seed(0) \n",
    "X0=np.ones([nsample,1])\n",
    "X1=np.random.uniform(0,10,([nsample,nvariables]))\n",
    "X=np.concatenate([X0,X1],axis=1)  #Design Matrix\n",
    "error=np.random.normal(0,1,(nsample,1))\n",
    "beta=np.random.randint(-5,5,size=([nvariables+1,1]));\n",
    "Y=np.dot(X,beta)+error\n",
    "print(beta[:]);"
   ]
  },
  {
   "cell_type": "code",
   "execution_count": 30,
   "metadata": {
    "collapsed": false,
    "scrolled": false
   },
   "outputs": [
    {
     "data": {
      "text/plain": [
       "<matplotlib.collections.PathCollection at 0xd1ac0f0>"
      ]
     },
     "execution_count": 30,
     "metadata": {},
     "output_type": "execute_result"
    },
    {
     "data": {
      "image/png": "[encoded data removed]",
      "text/plain": [
       "<matplotlib.figure.Figure at 0x9b39390>"
      ]
     },
     "metadata": {},
     "output_type": "display_data"
    }
   ],
   "source": [
    "import matplotlib.pyplot as plt\n",
    "%matplotlib inline\n",
    "plt.scatter(X[:,1],Y)"
   ]
  },
  {
   "cell_type": "markdown",
   "metadata": {},
   "source": [
    "**Section a)**"
   ]
  },
  {
   "cell_type": "code",
   "execution_count": 31,
   "metadata": {
    "collapsed": false,
    "scrolled": true
   },
   "outputs": [
    {
     "name": "stdout",
     "output_type": "stream",
     "text": [
      "[[ -6.75375408e-01]\n",
      " [ -2.02273812e+00]\n",
      " [ -9.94584837e-01]\n",
      " [ -5.02014810e+00]\n",
      " [ -2.99846222e+00]\n",
      " [  9.95434764e-01]\n",
      " [  2.00611959e+00]\n",
      " [ -4.00307472e+00]\n",
      " [  1.97887293e+00]\n",
      " [ -5.00806856e+00]\n",
      " [  9.78777208e-01]\n",
      " [  2.50291766e-03]\n",
      " [ -3.00448219e+00]\n",
      " [  1.98158231e+00]\n",
      " [  2.03014114e-02]\n",
      " [  1.00374320e+00]\n",
      " [ -2.01043574e+00]\n",
      " [  9.04926095e-03]\n",
      " [ -4.00021103e+00]\n",
      " [  3.00141095e+00]\n",
      " [ -9.91423564e-01]]\n"
     ]
    }
   ],
   "source": [
    "beta_ls=np.dot(np.dot(np.linalg.inv(np.dot(np.transpose(X),X)),np.transpose(X)),Y) #((X'X)^-1)*transpose(X)*Y\n",
    "print(beta_ls)"
   ]
  },
  {
   "cell_type": "markdown",
   "metadata": {},
   "source": [
    "**Section b)**"
   ]
  },
  {
   "cell_type": "code",
   "execution_count": 32,
   "metadata": {
    "collapsed": false
   },
   "outputs": [],
   "source": [
    "from pyomo.environ import *\n",
    "opt = SolverFactory(\"glpk\")\n",
    "from pyomo.opt import SolverFactory\n",
    "\n",
    "model=AbstractModel()\n",
    "\n",
    "model.I = RangeSet(1,nsample)       #Index for observations\n",
    "model.J = RangeSet(1,nvariables+1)  #Index for variables plus the independent term\n",
    "\n",
    "model.beta_la = Var(model.J,domain=Reals,bounds=(-5,5))\n",
    "model.t = Var(model.I,domain=NonNegativeReals)    \n",
    "\n",
    "def Obj_rule(model):\n",
    "\treturn sum(model.t[i] for i in model.I)\n",
    "model.OBJ = Objective(rule=Obj_rule, sense=minimize)\n",
    "\n",
    "def abs_constraint_upper(model, i): \n",
    "    return -(sum((model.beta_la[j]*X[i-1,j-1]) for j in model.J))-model.t[i]<=-Y[i-1]\n",
    "model.abs_Constraint_up = Constraint(model.I, rule=abs_constraint_upper)\n",
    "\n",
    "def abs_constraint_lower(model, i): \n",
    "    return -(sum((model.beta_la[j]*X[i-1,j-1]) for j in model.J))+model.t[i]>=-Y[i-1]\n",
    "model.abs_Constraint_low = Constraint(model.I, rule=abs_constraint_lower)"
   ]
  },
  {
   "cell_type": "code",
   "execution_count": 69,
   "metadata": {
    "collapsed": false
   },
   "outputs": [
    {
     "name": "stdout",
     "output_type": "stream",
     "text": [
      "\n",
      "Problem: \n",
      "- Name: unknown\n",
      "  Lower bound: 367.819392949\n",
      "  Upper bound: 367.819392949\n",
      "  Number of objectives: 1\n",
      "  Number of constraints: 1001\n",
      "  Number of variables: 522\n",
      "  Number of nonzeros: 22001\n",
      "  Sense: minimize\n",
      "Solver: \n",
      "- Status: ok\n",
      "  Termination condition: optimal\n",
      "  Statistics: \n",
      "    Branch and bound: \n",
      "      Number of bounded subproblems: 0\n",
      "      Number of created subproblems: 0\n",
      "  Error rc: 0\n",
      "  Time: 0.218000173569\n",
      "Solution: \n",
      "- number of solutions: 0\n",
      "  number of solutions displayed: 0\n",
      "\n",
      "Objective function 367.819393\n",
      "Beta_least_absolute: -0.6364;\tBeta_least_square: -0.6754;\tDifference: 0.0390\n",
      "Beta_least_absolute: -2.0292;\tBeta_least_square: -2.0227;\tDifference: -0.0064\n",
      "Beta_least_absolute: -1.0009;\tBeta_least_square: -0.9946;\tDifference: -0.0063\n",
      "Beta_least_absolute: -5.0000;\tBeta_least_square: -5.0201;\tDifference: 0.0201\n",
      "Beta_least_absolute: -3.0044;\tBeta_least_square: -2.9985;\tDifference: -0.0059\n",
      "Beta_least_absolute: 0.9900;\tBeta_least_square: 0.9954;\tDifference: -0.0054\n",
      "Beta_least_absolute: 2.0204;\tBeta_least_square: 2.0061;\tDifference: 0.0143\n",
      "Beta_least_absolute: -4.0185;\tBeta_least_square: -4.0031;\tDifference: -0.0154\n",
      "Beta_least_absolute: 1.9771;\tBeta_least_square: 1.9789;\tDifference: -0.0018\n",
      "Beta_least_absolute: -5.0000;\tBeta_least_square: -5.0081;\tDifference: 0.0081\n",
      "Beta_least_absolute: 0.9946;\tBeta_least_square: 0.9788;\tDifference: 0.0158\n",
      "Beta_least_absolute: -0.0041;\tBeta_least_square: 0.0025;\tDifference: -0.0066\n",
      "Beta_least_absolute: -3.0162;\tBeta_least_square: -3.0045;\tDifference: -0.0117\n",
      "Beta_least_absolute: 1.9918;\tBeta_least_square: 1.9816;\tDifference: 0.0102\n",
      "Beta_least_absolute: 0.0157;\tBeta_least_square: 0.0203;\tDifference: -0.0046\n",
      "Beta_least_absolute: 1.0198;\tBeta_least_square: 1.0037;\tDifference: 0.0161\n",
      "Beta_least_absolute: -2.0052;\tBeta_least_square: -2.0104;\tDifference: 0.0053\n",
      "Beta_least_absolute: -0.0148;\tBeta_least_square: 0.0090;\tDifference: -0.0238\n",
      "Beta_least_absolute: -4.0019;\tBeta_least_square: -4.0002;\tDifference: -0.0017\n",
      "Beta_least_absolute: 2.9968;\tBeta_least_square: 3.0014;\tDifference: -0.0046\n",
      "Beta_least_absolute: -0.9952;\tBeta_least_square: -0.9914;\tDifference: -0.0038\n"
     ]
    }
   ],
   "source": [
    "instance=model.create_instance()\n",
    "results=opt.solve(instance)\n",
    "print(results)\n",
    "print(\"Objective function %f\" %instance.OBJ())\n",
    "#for j in sequence(1,nvariables+1):\n",
    "for j in instance.J:\n",
    "    print(\"Beta_least_absolute: %.4f;\\tBeta_least_square: %.4f;\\tDifference: %.4f\" %(instance.beta_la[j].value,beta_ls[j-1],np.subtract(instance.beta_la[j].value,beta_ls[j-1])))\n",
    "    #print(instance.beta_la[j].value,beta_ls[j-1],np.subtract(instance.beta_la[j].value,beta_ls[j-1]))"
   ]
  }
 ],
 "metadata": {
  "anaconda-cloud": {},
  "kernelspec": {
   "display_name": "Python [default]",
   "language": "python",
   "name": "python2"
  },
  "language_info": {
   "codemirror_mode": {
    "name": "ipython",
    "version": 2
   },
   "file_extension": ".py",
   "mimetype": "text/x-python",
   "name": "python",
   "nbconvert_exporter": "python",
   "pygments_lexer": "ipython2",
   "version": "2.7.12"
  }
 },
 "nbformat": 4,
 "nbformat_minor": 1
}
