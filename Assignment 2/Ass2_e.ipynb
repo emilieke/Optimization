{
 "cells": [
  {
   "cell_type": "code",
   "execution_count": 1,
   "metadata": {
    "collapsed": true
   },
   "outputs": [],
   "source": [
    "#Creation of the dependent and independent terms\n",
    "import numpy as np\n",
    "nsample=30    #Number of observations\n",
    "nvariables=5  #Number of variables\n",
    "#We make results reproducible in order to obtain always the same random values\n",
    "np.random.seed(0) \n",
    "X0=np.ones([nsample,1])\n",
    "X1=np.random.uniform(0,10,([nsample,nvariables]))\n",
    "X=np.concatenate([X0,X1],axis=1)  #Design Matrix\n",
    "error=np.random.normal(0,1,(nsample,1))\n",
    "beta=np.random.randint(-5,5,size=([nvariables+1,1]));\n",
    "Y=np.dot(X,beta)+error"
   ]
  },
  {
   "cell_type": "code",
   "execution_count": 2,
   "metadata": {
    "collapsed": false,
    "scrolled": true
   },
   "outputs": [
    {
     "data": {
      "text/plain": [
       "<matplotlib.collections.PathCollection at 0x7c097f0>"
      ]
     },
     "execution_count": 2,
     "metadata": {},
     "output_type": "execute_result"
    },
    {
     "data": {
      "image/png": "[encoded data removed]",
      "text/plain": [
       "<matplotlib.figure.Figure at 0x26a3d68>"
      ]
     },
     "metadata": {},
     "output_type": "display_data"
    }
   ],
   "source": [
    "import matplotlib.pyplot as plt\n",
    "%matplotlib inline\n",
    "plt.scatter(X[:,1],Y)"
   ]
  },
  {
   "cell_type": "code",
   "execution_count": 3,
   "metadata": {
    "collapsed": false
   },
   "outputs": [
    {
     "name": "stdout",
     "output_type": "stream",
     "text": [
      "[[-0.06554322]\n",
      " [-0.1052794 ]\n",
      " [ 0.03394741]\n",
      " [-2.9660798 ]\n",
      " [ 0.01506119]\n",
      " [ 2.05907066]]\n"
     ]
    }
   ],
   "source": [
    "beta_ls=np.dot(np.dot(np.linalg.inv(np.dot(np.transpose(X),X)),np.transpose(X)),Y) #((X'X)^-1)*transpose(X)*Y\n",
    "print(beta_ls)"
   ]
  },
  {
   "cell_type": "code",
   "execution_count": 4,
   "metadata": {
    "collapsed": true
   },
   "outputs": [],
   "source": [
    "from pyomo.environ import *\n",
    "opt = SolverFactory(\"glpk\")\n",
    "from pyomo.opt import SolverFactory\n",
    "\n",
    "model=AbstractModel()\n",
    "\n",
    "model.I = RangeSet(1,nsample)       #Index for observations\n",
    "model.J = RangeSet(1,nvariables+1)  #Index for variables plus the independent term\n",
    "model.K = RangeSet(1,1)\n",
    "\n",
    "model.beta_lm = Var(model.J,domain=Reals,bounds=(-5,5))\n",
    "model.t = Var(model.I,domain=NonNegativeReals)\n",
    "model.gamma = Var(domain=NonNegativeReals)  \n",
    "model.mu = Var(model.I,domain=NonNegativeReals)\n",
    "model.mu_up = Var(model.I,domain=NonNegativeReals)\n",
    "model.z = Var(model.I,domain=Binary)\n",
    "\n",
    "def Obj_rule(model):\n",
    "\treturn model.gamma\n",
    "model.OBJ = Objective(rule=Obj_rule, sense=minimize)\n",
    "\n",
    "def abs_constraint_upper(model, i): \n",
    "    return -(sum((model.beta_lm[j]*X[i-1,j-1]) for j in model.J))-model.t[i]<=-Y[i-1]\n",
    "model.abs_Constraint_up = Constraint(model.I, rule=abs_constraint_upper)\n",
    "\n",
    "def abs_constraint_lower(model, i): \n",
    "    return -(sum((model.beta_lm[j]*X[i-1,j-1]) for j in model.J))+model.t[i]>=-Y[i-1]\n",
    "model.abs_Constraint_low = Constraint(model.I, rule=abs_constraint_lower)\n",
    "\n",
    "def const1(model,i):\n",
    "    return (model.t[i]+model.mu_up[i]-model.gamma)>= 0\n",
    "model.Const1 = Constraint(model.I, rule=const1)\n",
    "\n",
    "def const2(model,i):\n",
    "    return (model.t[i]-model.mu[i]-model.gamma)<= 0\n",
    "model.Const2 = Constraint(model.I, rule=const2)\n",
    "\n",
    "def const3(model,i):\n",
    "    return (100*model.z[i]-model.mu_up[i])>=0\n",
    "model.Const3 = Constraint(model.I, rule=const3)\n",
    "\n",
    "def const4(model,i):\n",
    "    return (100*(1-model.z[i])-model.mu[i])>=0\n",
    "model.Const4 = Constraint(model.I, rule=const4)\n",
    "\n",
    "def const5(model):\n",
    "    return sum(model.z[i] for i in model.I)==15\n",
    "model.Const5 = Constraint(rule=const5)"
   ]
  },
  {
   "cell_type": "code",
   "execution_count": 5,
   "metadata": {
    "collapsed": false
   },
   "outputs": [
    {
     "name": "stdout",
     "output_type": "stream",
     "text": [
      "\n",
      "Problem: \n",
      "- Name: unknown\n",
      "  Lower bound: 0.148704667006\n",
      "  Upper bound: 0.148704667006\n",
      "  Number of objectives: 1\n",
      "  Number of constraints: 182\n",
      "  Number of variables: 128\n",
      "  Number of nonzeros: 751\n",
      "  Sense: minimize\n",
      "Solver: \n",
      "- Status: ok\n",
      "  Termination condition: optimal\n",
      "  Statistics: \n",
      "    Branch and bound: \n",
      "      Number of bounded subproblems: 257397\n",
      "      Number of created subproblems: 257397\n",
      "  Error rc: 0\n",
      "  Time: 316.919000149\n",
      "Solution: \n",
      "- number of solutions: 0\n",
      "  number of solutions displayed: 0\n",
      "\n",
      "Objective function 0.148705\n",
      "Beta_median: 0.1071;\tBeta_least_square: -0.0655;\tDifference: 0.1726\n",
      "Beta_median: -0.0353;\tBeta_least_square: -0.1053;\tDifference: 0.0700\n",
      "Beta_median: 0.1203;\tBeta_least_square: 0.0339;\tDifference: 0.0864\n",
      "Beta_median: -3.1572;\tBeta_least_square: -2.9661;\tDifference: -0.1911\n",
      "Beta_median: -0.0964;\tBeta_least_square: 0.0151;\tDifference: -0.1114\n",
      "Beta_median: 2.1765;\tBeta_least_square: 2.0591;\tDifference: 0.1175\n"
     ]
    }
   ],
   "source": [
    "instance=model.create_instance()\n",
    "results=opt.solve(instance)\n",
    "print(results)\n",
    "print(\"Objective function %f\" %instance.OBJ())\n",
    "#for j in sequence(1,nvariables+1):\n",
    "for j in instance.J:\n",
    "    #print(\"Beta_least_absolute: %.4f\" %(instance.beta_lm[j].value))\n",
    "    print(\"Beta_median: %.4f;\\tBeta_least_square: %.4f;\\tDifference: %.4f\" %(instance.beta_lm[j].value,beta_ls[j-1],np.subtract(instance.beta_lm[j].value,beta_ls[j-1])))\n",
    "    \n",
    "#for i in instance.I:\n",
    "#    print(instance.t[i].value)\n",
    "    \n",
    "#for i in instance.I:\n",
    "#    print(instance.z[i].value)"
   ]
  }
 ],
 "metadata": {
  "anaconda-cloud": {},
  "kernelspec": {
   "display_name": "Python [default]",
   "language": "python",
   "name": "python2"
  },
  "language_info": {
   "codemirror_mode": {
    "name": "ipython",
    "version": 2
   },
   "file_extension": ".py",
   "mimetype": "text/x-python",
   "name": "python",
   "nbconvert_exporter": "python",
   "pygments_lexer": "ipython2",
   "version": "2.7.12"
  }
 },
 "nbformat": 4,
 "nbformat_minor": 1
}
