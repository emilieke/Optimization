{
 "cells": [
  {
   "cell_type": "markdown",
   "metadata": {},
   "source": [
    "**Section c)**"
   ]
  },
  {
   "cell_type": "code",
   "execution_count": 1,
   "metadata": {
    "collapsed": true
   },
   "outputs": [],
   "source": [
    "#Creation of the dependent and independent terms\n",
    "import numpy as np\n",
    "nsample=500     #Number of observations\n",
    "nvariables=20   #Number of variables\n",
    "#We make results reproducible in order to obtain always the same random values\n",
    "np.random.seed(0) \n",
    "X0=np.ones([nsample,1])\n",
    "X1=np.random.uniform(0,10,([nsample,nvariables]))\n",
    "X=np.concatenate([X0,X1],axis=1)  #Design Matrix\n",
    "error=np.random.normal(0,1,(nsample,1))\n",
    "beta=np.random.randint(-5,5,size=([nvariables+1,1]));\n",
    "Y=np.dot(X,beta)+error"
   ]
  },
  {
   "cell_type": "code",
   "execution_count": 10,
   "metadata": {
    "collapsed": false
   },
   "outputs": [],
   "source": [
    "from pyomo.environ import *\n",
    "opt = SolverFactory(\"glpk\")\n",
    "from pyomo.opt import SolverFactory\n",
    "\n",
    "model=AbstractModel()\n",
    "\n",
    "model.I = RangeSet(1,nsample)       #Index for observations\n",
    "model.J = RangeSet(1,nvariables+1)  #Index for variables plus the independent term\n",
    "\n",
    "model.k= Param(within=NonNegativeIntegers,default=2,mutable=True)\n",
    "\n",
    "model.beta_la = Var(model.J,domain=Reals,bounds=(-5,5))\n",
    "model.t = Var(model.I,domain=NonNegativeReals)\n",
    "model.z = Var(model.J,domain=Binary)  \n",
    "\n",
    "def Obj_rule(model):\n",
    "\treturn sum(model.t[i] for i in model.I)\n",
    "model.OBJ = Objective(rule=Obj_rule, sense=minimize)\n",
    "\n",
    "def abs_constraint_upper(model, i): \n",
    "    return -(sum((model.beta_la[j]*X[i-1,j-1]) for j in model.J))-model.t[i]<=-Y[i-1]\n",
    "model.abs_Constraint_up = Constraint(model.I, rule=abs_constraint_upper)\n",
    "\n",
    "def abs_constraint_lower(model, i): \n",
    "    return -(sum((model.beta_la[j]*X[i-1,j-1]) for j in model.J))+model.t[i]>=-Y[i-1]\n",
    "model.abs_Constraint_low = Constraint(model.I, rule=abs_constraint_lower)\n",
    "def z_constraint(model,j):\n",
    "    if(j==1):\n",
    "        return model.z[j]==1\n",
    "    else:\n",
    "        return sum (model.z[j] for j in model.J if(j!=1)) == model.k\n",
    "model.z_Constraint = Constraint(model.J, rule=z_constraint)\n",
    "        \n",
    "def beta_constraint_upper(model,j):\n",
    "    return model.beta_la[j]<=5*model.z[j]\n",
    "model.beta_Constraint_up = Constraint(model.J, rule=beta_constraint_upper)\n",
    "\n",
    "def beta_constraint_lower(model,j):\n",
    "    return model.beta_la[j]>=-5*model.z[j]\n",
    "model.beta_Constraint_low = Constraint(model.J, rule=beta_constraint_lower)"
   ]
  },
  {
   "cell_type": "code",
   "execution_count": 38,
   "metadata": {
    "collapsed": false,
    "scrolled": true
   },
   "outputs": [
    {
     "name": "stdout",
     "output_type": "stream",
     "text": [
      "Objective function [k=1] = 29301.415527\n",
      "Objective function [k=2] = 17925.023188\n",
      "Objective function [k=3] = 10285.417756\n",
      "Objective function [k=4] = 8517.900167\n",
      "Objective function [k=5] = 7467.925471\n",
      "Objective function [k=6] = 6518.818797\n",
      "Objective function [k=7] = 5524.092170\n",
      "Objective function [k=8] = 5029.030094\n",
      "Objective function [k=9] = 4463.602358\n",
      "Objective function [k=10] = 3957.622210\n",
      "Objective function [k=11] = 3393.144298\n",
      "Objective function [k=12] = 2582.438089\n",
      "Objective function [k=13] = 2316.316451\n",
      "Objective function [k=14] = 1919.524851\n",
      "Objective function [k=15] = 1564.084613\n",
      "Objective function [k=16] = 1199.839979\n",
      "Objective function [k=17] = 368.878102\n",
      "Objective function [k=18] = 368.241161\n",
      "Objective function [k=19] = 367.827198\n",
      "Objective function [k=20] = 367.819393\n",
      "[29301.41552702537, 17925.023187752802, 10285.417756218136, 8517.900166764393, 7467.92547054554, 6518.818796890404, 5524.092169747568, 5029.030093646303, 4463.602358458411, 3957.6222100704426, 3393.1442981982477, 2582.438089361194, 2316.3164511490168, 1919.5248510601555, 1564.0846129519346, 1199.8399792915018, 368.8781023242701, 368.24116117011386, 367.82719826337325, 367.81939294880823]\n"
     ]
    }
   ],
   "source": [
    "instance=model.create_instance()\n",
    "Obj_f=[]\n",
    "k_range = list(range(1, 21))\n",
    "for k in k_range:\n",
    "    getattr(instance, \"k\").set_value(k)\n",
    "    results=opt.solve(instance)\n",
    "    #print(results)\n",
    "    Obj_f.append(instance.OBJ())\n",
    "    print(\"Objective function [k=%d] = %f\" %(k,instance.OBJ()))\n",
    "    #for j in sequence(1,nvariables+1):\n",
    "    #for j in instance.J:\n",
    "        #print(\"Beta_least_absolute: %.4f;\\tBeta_least_square: %.4f;\\tDifference: %.4f\" %(instance.beta_la[j].value,beta_ls[j-1],np.subtract(instance.beta_la[j].value,beta_ls[j-1])))\n",
    "        #print(\"Beta[%d]= %f\"%(j-1,instance.beta_la[j].value))\n",
    "print(Obj_f)"
   ]
  },
  {
   "cell_type": "code",
   "execution_count": 39,
   "metadata": {
    "collapsed": false
   },
   "outputs": [
    {
     "data": {
      "image/png": "[encoded data removed]",
      "text/plain": [
       "<matplotlib.figure.Figure at 0xa4dee80>"
      ]
     },
     "metadata": {},
     "output_type": "display_data"
    }
   ],
   "source": [
    "import matplotlib.pyplot as plt\n",
    "%matplotlib inline\n",
    "\n",
    "plt.plot(np.array(k_range,dtype=float), Obj_f)\n",
    "plt.ylabel('Objetive function')\n",
    "plt.xlabel('Number of betas distinct to zero')\n",
    "plt.show()"
   ]
  }
 ],
 "metadata": {
  "anaconda-cloud": {},
  "kernelspec": {
   "display_name": "Python [default]",
   "language": "python",
   "name": "python2"
  },
  "language_info": {
   "codemirror_mode": {
    "name": "ipython",
    "version": 2
   },
   "file_extension": ".py",
   "mimetype": "text/x-python",
   "name": "python",
   "nbconvert_exporter": "python",
   "pygments_lexer": "ipython2",
   "version": "2.7.12"
  }
 },
 "nbformat": 4,
 "nbformat_minor": 1
}
