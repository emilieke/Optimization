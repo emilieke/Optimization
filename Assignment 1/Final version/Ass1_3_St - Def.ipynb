{
 "cells": [
  {
   "cell_type": "code",
   "execution_count": 5,
   "metadata": {
    "collapsed": false
   },
   "outputs": [
    {
     "name": "stdout",
     "output_type": "stream",
     "text": [
      "Overwriting Ass1_3_St.py\n"
     ]
    }
   ],
   "source": [
    "%%writefile Ass1_3_St.py\n",
    "\n",
    "from __future__ import division \n",
    "from pyomo.environ import *\n",
    "#Using the abstact model we will need to specify the index of the model, the variables ,the parameters, \n",
    "#the equations of the model, etc.\n",
    "model = AbstractModel()\n",
    "\n",
    "#We specify that both parameters n and m are Non Negative Integers\n",
    "\n",
    "model.n = Param(within = NonNegativeIntegers)  #Total number of average revenues per user (j=1,...,n)\n",
    "model.m = Param(within = NonNegativeIntegers)  #Total number of constraints (i=1,...,m)\n",
    "\n",
    "#Definition of the indexes\n",
    "#The index i will go from 1 to m \n",
    "#The index j will go from 1 to n\n",
    "\n",
    "model.I = RangeSet(1,model.m)    \n",
    "model.J = RangeSet(1,model.n)    \n",
    "\n",
    "model.A = Param(model.I,model.J)  \n",
    "model.c = Param(model.J)          \n",
    "model.b = Param(model.I)          \n",
    "\n",
    "#Definition of the variables\n",
    "model.x = Var(model.J, domain=NonNegativeReals)\n",
    "\n",
    "#Objective function\n",
    "#first we define previously a function that will be called after, when defining the objective function\n",
    "def obj_expression(model):\n",
    "    return summation(model.c,model.x)\n",
    "\n",
    "model.OBJ = Objective(rule=obj_expression)\n",
    "\n",
    "#The total expenses of one enterprise in advertisement cannot be higher than the total budget that it has\n",
    "def A_constraint(model,i):\n",
    "    return sum(model.A[i,j]*model.x[j] for j in model.J) <= model.b[i]\n",
    "\n",
    "def A_constraint(model,i):\n",
    "    return sum(model.A[i,j]*model.x[j] for j in model.J) <= model.b[i]\n",
    "\n",
    "model.cons = Constraint(model.I, rule=A_constraint)"
   ]
  },
  {
   "cell_type": "code",
   "execution_count": 6,
   "metadata": {
    "collapsed": false
   },
   "outputs": [
    {
     "name": "stdout",
     "output_type": "stream",
     "text": [
      "Overwriting Ass1_3_St.dat\n"
     ]
    }
   ],
   "source": [
    "%%writefile Ass1_3_St.dat\n",
    "\n",
    "param n := 10;  \n",
    "param m := 10;  \n",
    "    \n",
    "param b := \n",
    "1 200\n",
    "2 150\n",
    "3 180\n",
    "4 140\n",
    "5 210\n",
    "6 190\n",
    "7 160\n",
    "8 100\n",
    "9 205\n",
    "10 170\n",
    "11 150\n",
    "12 90\n",
    "13 80\n",
    "14 110\n",
    "15 135\n",
    "16 95\n",
    "17 105\n",
    "18 120\n",
    "19 75\n",
    "20 160\n",
    ";\n",
    "\n",
    "param c := \n",
    "1 -1\n",
    "2 -0.75\n",
    "3 -2.5\n",
    "4 -2\n",
    "5 -3\n",
    "6 -3.5\n",
    "7 -1.75\n",
    "8 -0.5\n",
    "9 -2.5\n",
    "10 -1.75\n",
    "11 -0.5\n",
    "12 -0.5\n",
    "13 -2\n",
    "14 -0.75\n",
    "15 -1.5\n",
    "16 -1\n",
    "17 -0.6\n",
    "18 -0.9\n",
    "19 -1.5\n",
    "20 -2\n",
    "21 -0.5\n",
    "22 -2.6\n",
    "23 -1\n",
    "24 -2.5\n",
    "25 -1.5\n",
    "26 -2.25\n",
    "27 -0.75\n",
    "28 -0.5\n",
    "29 -1.5\n",
    "30 -0.8\n",
    "31 -0.25\n",
    "32 -0.5\n",
    "33 -2.8\n",
    "34 -2\n",
    "35 -3\n",
    "36 -3.5\n",
    "37 -1.75\n",
    "38 -0.5\n",
    "39 -2.5\n",
    "40 -1.75\n",
    "41 -0.75\n",
    "42 -0.5\n",
    "43 -2.5\n",
    "44 -1.1\n",
    "45 -1.4\n",
    "46 -1.8\n",
    "47 -1.75\n",
    "48 -0.5\n",
    "49 -2.5\n",
    "50 -3\n",
    "51 -1.5\n",
    "52 -2.75\n",
    "53 -1.4\n",
    "54 -2\n",
    "55 -3.2\n",
    "56 -3.5\n",
    "57 -1.9\n",
    "58 -0.5\n",
    "59 -2.25\n",
    "60 -0.9\n",
    "61 -1.4\n",
    "62 -0.7\n",
    "63 -3.2\n",
    "64 -2.3\n",
    "65 -2.1\n",
    "66 -0.6\n",
    "67 -1.6\n",
    "68 -0.3\n",
    "69 -2.9\n",
    "70 -3.1\n",
    "71 -1\n",
    "72 -1.3\n",
    "73 -3.3\n",
    "74 -3.6\n",
    "75 -0.65\n",
    "76 -1.35\n",
    "77 -1.75\n",
    "78 -0.85\n",
    "79 -2\n",
    "80 -1.95\n",
    "81 -0.4\n",
    "82 -2.1\n",
    "83 -0.35\n",
    "84 -2.8\n",
    "85 -3.45\n",
    "86 -3\n",
    "87 -1.25\n",
    "88 -0.55\n",
    "89 -2.7\n",
    "90 -0.2\n",
    "91 -2\n",
    "92 -1.2\n",
    "93 -3.4\n",
    "94 -1.65\n",
    "95 -3.2\n",
    "96 -2.4\n",
    "97 -2.8\n",
    "98 -1.3\n",
    "99 -0.9\n",
    "100 -2.4\n",
    ";\n",
    "\n",
    "\n",
    "#The average revenue per user for advertisement of company i in the query j\n",
    "\n",
    "param A: 1 2 3 4 5 6 7 8 9 10 11 12 13 14 15 16 17 18 19 20 21 22 23 24 25 26 27 28 29 30 31 32 33 34 35 36 37 38 39 40 41 42 43 44 45 46 47 48 49 50 51 52 53 54 55 56 57 58 59 60 61 62 63 64 65 66 67 68 69 70 71 72 73 74 75 76 77 78 79 80 81 82 83 84 85 86 87 88 89 90 91 92 93 94 95 96 97 98 99 100 :=\n",
    "1 1 0.75 2.5 2 3 3.5 1.75 0.5 2.5 1.75 0 0 0 0 0 0 0 0 0 0 0 0 0 0 0 0 0 0 0 0 0 0 0 0 0 0 0 0 0 0 0 0 0 0 0 0 0 0 0 0 0 0 0 0 0 0 0 0 0 0 0 0 0 0 0 0 0 0 0 0 0 0 0 0 0 0 0 0 0 0 0 0 0 0 0 0 0 0 0 0 0 0 0 0 0 0 0 0 0 0\n",
    "2 0 0 0 0 0 0 0 0 0 0 0.5 0.5 2 0.75 1.5 1 0.6 0.9 1.5 2 0 0 0 0 0 0 0 0 0 0 0 0 0 0 0 0 0 0 0 0 0 0 0 0 0 0 0 0 0 0 0 0 0 0 0 0 0 0 0 0 0 0 0 0 0 0 0 0 0 0 0 0 0 0 0 0 0 0 0 0 0 0 0 0 0 0 0 0 0 0 0 0 0 0 0 0 0 0 0 0\n",
    "3 0 0 0 0 0 0 0 0 0 0 0 0 0 0 0 0 0 0 0 0 0.5 2.6 1 2.5 1.5 2.25 0.75 0.5 1.5 0.8 0 0 0 0 0 0 0 0 0 0 0 0 0 0 0 0 0 0 0 0 0 0 0 0 0 0 0 0 0 0 0 0 0 0 0 0 0 0 0 0 0 0 0 0 0 0 0 0 0 0 0 0 0 0 0 0 0 0 0 0 0 0 0 0 0 0 0 0 0 0\n",
    "4 0 0 0 0 0 0 0 0 0 0 0 0 0 0 0 0 0 0 0 0 0 0 0 0 0 0 0 0 0 0 0.25 0.5 2.8 2 3 3.5 1.75 0.5 2.5 1.75 0 0 0 0 0 0 0 0 0 0 0 0 0 0 0 0 0 0 0 0 0 0 0 0 0 0 0 0 0 0 0 0 0 0 0 0 0 0 0 0 0 0 0 0 0 0 0 0 0 0 0 0 0 0 0 0 0 0 0 0\n",
    "5 0 0 0 0 0 0 0 0 0 0 0 0 0 0 0 0 0 0 0 0 0 0 0 0 0 0 0 0 0 0 0 0 0 0 0 0 0 0 0 0 0.75 0.5 2.5 1.1 1.4 1.8 1.75 0.5 2.5 3 0 0 0 0 0 0 0 0 0 0 0 0 0 0 0 0 0 0 0 0 0 0 0 0 0 0 0 0 0 0 0 0 0 0 0 0 0 0 0 0 0 0 0 0 0 0 0 0 0 0\n",
    "6 0 0 0 0 0 0 0 0 0 0 0 0 0 0 0 0 0 0 0 0 0 0 0 0 0 0 0 0 0 0 0 0 0 0 0 0 0 0 0 0 0 0 0 0 0 0 0 0 0 0 1.5 2.75 1.4 2 3.2 3.5 1.9 0.5 2.25 0.9 0 0 0 0 0 0 0 0 0 0 0 0 0 0 0 0 0 0 0 0 0 0 0 0 0 0 0 0 0 0 0 0 0 0 0 0 0 0 0 0\n",
    "7 0 0 0 0 0 0 0 0 0 0 0 0 0 0 0 0 0 0 0 0 0 0 0 0 0 0 0 0 0 0 0 0 0 0 0 0 0 0 0 0 0 0 0 0 0 0 0 0 0 0 0 0 0 0 0 0 0 0 0 0 1.4 0.7 3.2 2.3 2.1 0.6 1.6 0.3 2.9 3.1 0 0 0 0 0 0 0 0 0 0 0 0 0 0 0 0 0 0 0 0 0 0 0 0 0 0 0 0 0 0\n",
    "8 0 0 0 0 0 0 0 0 0 0 0 0 0 0 0 0 0 0 0 0 0 0 0 0 0 0 0 0 0 0 0 0 0 0 0 0 0 0 0 0 0 0 0 0 0 0 0 0 0 0 0 0 0 0 0 0 0 0 0 0 0 0 0 0 0 0 0 0 0 0 1 1.3 3.3 3.6 0.65 1.35 1.75 0.85 2 1.95 0 0 0 0 0 0 0 0 0 0 0 0 0 0 0 0 0 0 0 0\n",
    "9 0 0 0 0 0 0 0 0 0 0 0 0 0 0 0 0 0 0 0 0 0 0 0 0 0 0 0 0 0 0 0 0 0 0 0 0 0 0 0 0 0 0 0 0 0 0 0 0 0 0 0 0 0 0 0 0 0 0 0 0 0 0 0 0 0 0 0 0 0 0 0 0 0 0 0 0 0 0 0 0 0.4 2.1 0.35 2.8 3.45 3 1.25 0.55 2.7 0.2 0 0 0 0 0 0 0 0 0 0\n",
    "10 0 0 0 0 0 0 0 0 0 0 0 0 0 0 0 0 0 0 0 0 0 0 0 0 0 0 0 0 0 0 0 0 0 0 0 0 0 0 0 0 0 0 0 0 0 0 0 0 0 0 0 0 0 0 0 0 0 0 0 0 0 0 0 0 0 0 0 0 0 0 0 0 0 0 0 0 0 0 0 0 0 0 0 0 0 0 0 0 0 0 2 1.2 3.4 1.65 3.2 2.4 2.8 1.3 0.9 2.4\n",
    "11 1 0 0 0 0 0 0 0 0 0 1 0 0 0 0 0 0 0 0 0 1 0 0 0 0 0 0 0 0 0 1 0 0 0 0 0 0 0 0 0 1 0 0 0 0 0 0 0 0 0 1 0 0 0 0 0 0 0 0 0 1 0 0 0 0 0 0 0 0 0 1 0 0 0 0 0 0 0 0 0 1 0 0 0 0 0 0 0 0 0 1 0 0 0 0 0 0 0 0 0\n",
    "12 0 1 0 0 0 0 0 0 0 0 0 1 0 0 0 0 0 0 0 0 0 1 0 0 0 0 0 0 0 0 0 1 0 0 0 0 0 0 0 0 0 1 0 0 0 0 0 0 0 0 0 1 0 0 0 0 0 0 0 0 0 1 0 0 0 0 0 0 0 0 0 1 0 0 0 0 0 0 0 0 0 1 0 0 0 0 0 0 0 0 0 1 0 0 0 0 0 0 0 0\n",
    "13 0 0 1 0 0 0 0 0 0 0 0 0 1 0 0 0 0 0 0 0 0 0 1 0 0 0 0 0 0 0 0 0 1 0 0 0 0 0 0 0 0 0 1 0 0 0 0 0 0 0 0 0 1 0 0 0 0 0 0 0 0 0 1 0 0 0 0 0 0 0 0 0 1 0 0 0 0 0 0 0 0 0 1 0 0 0 0 0 0 0 0 0 1 0 0 0 0 0 0 0\n",
    "14 0 0 0 1 0 0 0 0 0 0 0 0 0 1 0 0 0 0 0 0 0 0 0 1 0 0 0 0 0 0 0 0 0 1 0 0 0 0 0 0 0 0 0 1 0 0 0 0 0 0 0 0 0 1 0 0 0 0 0 0 0 0 0 1 0 0 0 0 0 0 0 0 0 1 0 0 0 0 0 0 0 0 0 1 0 0 0 0 0 0 0 0 0 1 0 0 0 0 0 0\n",
    "15 0 0 0 0 1 0 0 0 0 0 0 0 0 0 1 0 0 0 0 0 0 0 0 0 1 0 0 0 0 0 0 0 0 0 1 0 0 0 0 0 0 0 0 0 1 0 0 0 0 0 0 0 0 0 1 0 0 0 0 0 0 0 0 0 1 0 0 0 0 0 0 0 0 0 1 0 0 0 0 0 0 0 0 0 1 0 0 0 0 0 0 0 0 0 1 0 0 0 0 0\n",
    "16 0 0 0 0 0 1 0 0 0 0 0 0 0 0 0 1 0 0 0 0 0 0 0 0 0 1 0 0 0 0 0 0 0 0 0 1 0 0 0 0 0 0 0 0 0 1 0 0 0 0 0 0 0 0 0 1 0 0 0 0 0 0 0 0 0 1 0 0 0 0 0 0 0 0 0 1 0 0 0 0 0 0 0 0 0 1 0 0 0 0 0 0 0 0 0 1 0 0 0 0\n",
    "17 0 0 0 0 0 0 1 0 0 0 0 0 0 0 0 0 1 0 0 0 0 0 0 0 0 0 1 0 0 0 0 0 0 0 0 0 1 0 0 0 0 0 0 0 0 0 1 0 0 0 0 0 0 0 0 0 1 0 0 0 0 0 0 0 0 0 1 0 0 0 0 0 0 0 0 0 1 0 0 0 0 0 0 0 0 0 1 0 0 0 0 0 0 0 0 0 1 0 0 0\n",
    "18 0 0 0 0 0 0 0 1 0 0 0 0 0 0 0 0 0 1 0 0 0 0 0 0 0 0 0 1 0 0 0 0 0 0 0 0 0 1 0 0 0 0 0 0 0 0 0 1 0 0 0 0 0 0 0 0 0 1 0 0 0 0 0 0 0 0 0 1 0 0 0 0 0 0 0 0 0 1 0 0 0 0 0 0 0 0 0 1 0 0 0 0 0 0 0 0 0 1 0 0\n",
    "19 0 0 0 0 0 0 0 0 1 0 0 0 0 0 0 0 0 0 1 0 0 0 0 0 0 0 0 0 1 0 0 0 0 0 0 0 0 0 1 0 0 0 0 0 0 0 0 0 1 0 0 0 0 0 0 0 0 0 1 0 0 0 0 0 0 0 0 0 1 0 0 0 0 0 0 0 0 0 1 0 0 0 0 0 0 0 0 0 1 0 0 0 0 0 0 0 0 0 1 0\n",
    "20 0 0 0 0 0 0 0 0 0 1 0 0 0 0 0 0 0 0 0 1 0 0 0 0 0 0 0 0 0 1 0 0 0 0 0 0 0 0 0 1 0 0 0 0 0 0 0 0 0 1 0 0 0 0 0 0 0 0 0 1 0 0 0 0 0 0 0 0 0 1 0 0 0 0 0 0 0 0 0 1 0 0 0 0 0 0 0 0 0 1 0 0 0 0 0 0 0 0 0 1\n",
    ";"
   ]
  },
  {
   "cell_type": "code",
   "execution_count": 7,
   "metadata": {
    "collapsed": false
   },
   "outputs": [
    {
     "name": "stdout",
     "output_type": "stream",
     "text": [
      "[    0.00] Setting up Pyomo environment\n",
      "[    0.00] Applying Pyomo preprocessing actions\n",
      "[    0.00] Creating model\n",
      "[    0.58] Applying solver\n",
      "[    0.63] Processing results\n",
      "    Number of solutions: 1\n",
      "    Solution Information\n",
      "      Gap: 0.0\n",
      "      Status: feasible\n",
      "      Function Value: -1705.0\n",
      "    Solver results file: results.yml\n",
      "[    0.77] Applying Pyomo postprocessing actions\n",
      "[    0.77] Pyomo Finished\n"
     ]
    }
   ],
   "source": [
    "!pyomo solve Ass1_3_St.py Ass1_3_St.dat --solver=glpk --solver-suffix=dual"
   ]
  },
  {
   "cell_type": "code",
   "execution_count": 8,
   "metadata": {
    "collapsed": false
   },
   "outputs": [
    {
     "name": "stdout",
     "output_type": "stream",
     "text": [
      "/bin/sh: line 0: type: results.yml: not found\r\n"
     ]
    }
   ],
   "source": [
    "!type results.yml"
   ]
  },
  {
   "cell_type": "code",
   "execution_count": null,
   "metadata": {
    "collapsed": true
   },
   "outputs": [],
   "source": []
  }
 ],
 "metadata": {
  "anaconda-cloud": {},
  "kernelspec": {
   "display_name": "Python [default]",
   "language": "python",
   "name": "python2"
  },
  "language_info": {
   "codemirror_mode": {
    "name": "ipython",
    "version": 2
   },
   "file_extension": ".py",
   "mimetype": "text/x-python",
   "name": "python",
   "nbconvert_exporter": "python",
   "pygments_lexer": "ipython2",
   "version": "2.7.12"
  }
 },
 "nbformat": 4,
 "nbformat_minor": 1
}
