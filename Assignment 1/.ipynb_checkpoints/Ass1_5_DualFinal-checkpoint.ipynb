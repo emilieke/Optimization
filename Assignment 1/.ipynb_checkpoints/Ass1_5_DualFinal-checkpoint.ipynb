{
 "cells": [
  {
   "cell_type": "code",
   "execution_count": 4,
   "metadata": {
    "collapsed": false
   },
   "outputs": [
    {
     "name": "stdout",
     "output_type": "stream",
     "text": [
      "Writing Ass1_5_Dual.py\n"
     ]
    }
   ],
   "source": [
    "%%writefile Ass1_5_Dual.py\n",
    "\n",
    "from __future__ import division \n",
    "from pyomo.environ import *\n",
    "#Using the abstact model we will need to specify the index of the model, the variables ,the parameters, \n",
    "#the equations of the model, etc.\n",
    "model = AbstractModel()\n",
    "\n",
    "#We specify that both parameters n and m are Non Negative Integers\n",
    "\n",
    "model.n = Param(within = NonNegativeIntegers)  #Total number of ads for all companies (j=1,...,n)\n",
    "model.m = Param(within = NonNegativeIntegers)  #Total number of constraints (i=1,...,m)\n",
    "\n",
    "#Definition of the indexes\n",
    "#The index i will go from 1 to m \n",
    "#The index j will go from 1 to n\n",
    "\n",
    "model.I = RangeSet(1,model.m)    \n",
    "model.J = RangeSet(1,model.n)    \n",
    "\n",
    "model.AT = Param(model.J,model.I)  \n",
    "model.c = Param(model.J)          \n",
    "model.b = Param(model.I)          \n",
    "\n",
    "#Definition of the variables\n",
    "model.y = Var(model.I, domain=NonPositiveReals)\n",
    "\n",
    "\n",
    "#Objective function\n",
    "#first we define previously a function that will be called after, when definig the objective function\n",
    "def obj_expression(model):\n",
    "    return summation(model.b,model.y)\n",
    "\n",
    "model.OBJ = Objective(rule=obj_expression,sense=maximize)\n",
    "\n",
    "#The total expenses of one enterprise in advertisement cannot be higher than the total budget that it has\n",
    "def A_constraint(model,j):\n",
    "    return sum(model.AT[j,i]*model.y[i] for i in model.I) <= model.c[j]\n",
    "\n",
    "model.cons = Constraint(model.J, rule=A_constraint)"
   ]
  },
  {
   "cell_type": "code",
   "execution_count": 5,
   "metadata": {
    "collapsed": false
   },
   "outputs": [
    {
     "name": "stdout",
     "output_type": "stream",
     "text": [
      "Writing Ass1_5_Dual.dat\n"
     ]
    }
   ],
   "source": [
    "%%writefile Ass1_5_Dual.dat\n",
    "\n",
    "param n := 9;  \n",
    "param m := 6;  \n",
    "    \n",
    "param b:= \n",
    "1 200\n",
    "2 150\n",
    "3 180\n",
    "4 150\n",
    "5 90\n",
    "6 80\n",
    ";\n",
    "\n",
    "param c := \n",
    "1 -1\n",
    "2 -0.75\n",
    "3 -5\n",
    "4 -0.5\n",
    "5 -0.5\n",
    "6 -2\n",
    "7 -0.5\n",
    "8 -3\n",
    "9 -1\n",
    ";\n",
    "\n",
    "#The average revenue per user for advertisement of company i in the query j\n",
    "param AT: 1 2 3 4 5 6:=\n",
    "1 1 0 0 1 0 0  \n",
    "2 0.75 0 0 0 1 0 \n",
    "3 5 0 0 0 0 1 \n",
    "4 0 0.5 0 1 0 0 \n",
    "5 0 0.5 0 0 1 0 \n",
    "6 0 2 0 0 0 1  \n",
    "7 0 0 0.5 1 0 0\n",
    "8 0 0 3 0 1 0 \n",
    "9 0 0 1 0 0 1\n",
    ";"
   ]
  },
  {
   "cell_type": "code",
   "execution_count": 6,
   "metadata": {
    "collapsed": false
   },
   "outputs": [
    {
     "name": "stdout",
     "output_type": "stream",
     "text": [
      "[    0.00] Setting up Pyomo environment\n",
      "[    0.00] Applying Pyomo preprocessing actions\n",
      "[    0.00] Creating model\n",
      "[    0.20] Applying solver\n",
      "[    0.25] Processing results\n",
      "    Number of solutions: 1\n",
      "    Solution Information\n",
      "      Gap: 0.0\n",
      "      Status: feasible\n",
      "      Function Value: -530.0\n",
      "    Solver results file: results.yml\n",
      "\n",
      "==========================================================\n",
      "Solution Summary\n",
      "==========================================================\n",
      "\n",
      "Model unknown\n",
      "\n",
      "  Variables:\n",
      "    y : Size=6, Index=I\n",
      "        Key : Lower : Value : Upper : Fixed : Stale : Domain\n",
      "          1 :  None :  -1.0 :     0 : False : False : NonPositiveReals\n",
      "          2 :  None :  -1.0 :     0 : False : False : NonPositiveReals\n",
      "          3 :  None :  -1.0 :     0 : False : False : NonPositiveReals\n",
      "          4 :  None :   0.0 :     0 : False : False : NonPositiveReals\n",
      "          5 :  None :   0.0 :     0 : False : False : NonPositiveReals\n",
      "          6 :  None :   0.0 :     0 : False : False : NonPositiveReals\n",
      "\n",
      "  Objectives:\n",
      "    OBJ : Size=1, Index=None, Active=True\n",
      "        Key  : Active : Value\n",
      "        None :   True : -530.0\n",
      "\n",
      "  Constraints:\n",
      "    cons : Size=9\n",
      "        Key : Lower : Body  : Upper\n",
      "          1 :  None :  -1.0 :  -1.0\n",
      "          2 :  None : -0.75 : -0.75\n",
      "          3 :  None :  -5.0 :  -5.0\n",
      "          4 :  None :  -0.5 :  -0.5\n",
      "          5 :  None :  -0.5 :  -0.5\n",
      "          6 :  None :  -2.0 :  -2.0\n",
      "          7 :  None :  -0.5 :  -0.5\n",
      "          8 :  None :  -3.0 :  -3.0\n",
      "          9 :  None :  -1.0 :  -1.0\n",
      "\n",
      "[    0.39] Applying Pyomo postprocessing actions\n",
      "[    0.39] Pyomo Finished\n"
     ]
    }
   ],
   "source": [
    "!pyomo solve Ass1_5_Dual.py Ass1_5_Dual.dat --solver=glpk --summary --solver-suffix=dual"
   ]
  },
  {
   "cell_type": "code",
   "execution_count": 2,
   "metadata": {
    "collapsed": false
   },
   "outputs": [
    {
     "name": "stdout",
     "output_type": "stream",
     "text": [
      "/bin/sh: line 0: type: results.yml: not found\r\n"
     ]
    }
   ],
   "source": [
    "!type results.yml"
   ]
  },
  {
   "cell_type": "code",
   "execution_count": null,
   "metadata": {
    "collapsed": true
   },
   "outputs": [],
   "source": []
  }
 ],
 "metadata": {
  "anaconda-cloud": {},
  "kernelspec": {
   "display_name": "Python [default]",
   "language": "python",
   "name": "python2"
  },
  "language_info": {
   "codemirror_mode": {
    "name": "ipython",
    "version": 2
   },
   "file_extension": ".py",
   "mimetype": "text/x-python",
   "name": "python",
   "nbconvert_exporter": "python",
   "pygments_lexer": "ipython2",
   "version": "2.7.12"
  }
 },
 "nbformat": 4,
 "nbformat_minor": 1
}
