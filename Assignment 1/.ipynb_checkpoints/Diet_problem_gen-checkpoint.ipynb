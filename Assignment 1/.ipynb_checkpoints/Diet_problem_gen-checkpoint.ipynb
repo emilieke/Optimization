{
 "cells": [
  {
   "cell_type": "markdown",
   "metadata": {},
   "source": [
    "# The Diet Problem\n",
    "\n",
    "## Summary\n",
    "\n",
    "The goal of the Diet Problem is to select foods that satisfy daily nutritional requirements at minimum cost. This problem can be formulated as a linear program, for which constraints limit the number of calories and the amount of vitamins, minerals, fats, sodium, and cholesterol in the diet. Danzig (1990) notes that the diet problem was motivated by the US Army's desire to minimize the cost of feeding GIs in the field while still providing a healthy diet.\n",
    "\n",
    "## Problem Statement\n",
    "\n",
    "The Diet Problem can be formulated mathematically as a linear programming problem using the following model.  \n",
    "\n",
    "### Sets\n",
    "\n",
    " $F$ = set of foods  \n",
    " $N$ = set of nutrients\n",
    "\n",
    "### Parameters\n",
    "\n",
    " $c_i$ = cost per serving of food $i$, $\\forall i \\in F$  \n",
    " $a_{ij}$ = amount of nutrient $j$ in food $i$, $\\forall i \\in F, \\forall j \\in N$  \n",
    " $Nmin_j$ = minimum level of nutrient $j$, $\\forall j \\in N$  \n",
    " $Nmax_j$ = maximum level of nutrient $j$, $\\forall j \\in N$  \n",
    " $V_i$ = the volume per serving of food $i$, $\\forall i \\in F$  \n",
    " $Vmax$ = maximum volume of food consumed\n",
    " \n",
    "### Variables\n",
    " $x_i$ = number of servings of food $i$ to consume\n",
    "\n",
    "### Objective\n",
    "\n",
    "Minimize the total cost of the food  \n",
    " $\\min \\sum_{i \\in F} c_i x_i$\n",
    "\n",
    "### Constraints\n",
    "\n",
    "Limit nutrient consumption for each nutrient $j \\in N$.  \n",
    " $Nmin_j \\leq \\sum_{i \\in F} a_{ij} x_i \\leq Nmax_j$, $\\forall j \\in N$\n",
    "\n",
    "Limit the volume of food consumed  \n",
    " $\\sum_{i \\in F} V_i x_i \\leq Vmax$\n",
    " \n",
    "Consumption lower bound  \n",
    " $x_i \\geq 0$, $\\forall i \\in F$"
   ]
  },
  {
   "cell_type": "code",
   "execution_count": 1,
   "metadata": {
    "collapsed": false
   },
   "outputs": [
    {
     "name": "stdout",
     "output_type": "stream",
     "text": [
      "Overwriting diet_gen.py\n"
     ]
    }
   ],
   "source": [
    "%%writefile diet_gen.py\n",
    "\n",
    "from __future__ import division \n",
    "from pyomo.environ import *\n",
    "infinity = float('inf')\n",
    "\n",
    "model = AbstractModel()\n",
    "\n",
    "# Foods\n",
    "model.F = Set()\n",
    "# Nutrients\n",
    "model.N = Set()\n",
    "\n",
    "# Cost of each food\n",
    "model.c    = Param(model.F, within=PositiveReals)\n",
    "# Amount of nutrient in each food\n",
    "model.a    = Param(model.F, model.N, within=NonNegativeReals)\n",
    "# Lower and upper bound on each nutrient\n",
    "model.Nmin = Param(model.N, within=NonNegativeReals, default=0.0)\n",
    "model.Nmax = Param(model.N, within=NonNegativeReals, default=infinity)\n",
    "# Volume per serving of food\n",
    "model.V    = Param(model.F, within=PositiveReals)\n",
    "# Maximum volume of food consumed\n",
    "model.Vmax = Param(within=PositiveReals)\n",
    "\n",
    "# Number of servings consumed of each food\n",
    "model.x = Var(model.F, within=NonNegativeIntegers)\n",
    "\n",
    "# Minimize the cost of food that is consumed\n",
    "def cost_rule(model):\n",
    "    return sum(model.c[i]*model.x[i] for i in model.F)\n",
    "model.cost = Objective(rule=cost_rule)\n",
    "\n",
    "# Limit nutrient consumption for each nutrient\n",
    "def nutrient_rule(model, j):\n",
    "    value = sum(model.a[i,j]*model.x[i] for i in model.F)\n",
    "    return model.Nmin[j] <= value <= model.Nmax[j]\n",
    "model.nutrient_limit = Constraint(model.N, rule=nutrient_rule)\n",
    "\n",
    "# Limit the volume of food consumed\n",
    "def volume_rule(model):\n",
    "    return sum(model.V[i]*model.x[i] for i in model.F) <= model.Vmax\n",
    "model.volume = Constraint(rule=volume_rule)"
   ]
  },
  {
   "cell_type": "code",
   "execution_count": 2,
   "metadata": {
    "collapsed": false
   },
   "outputs": [
    {
     "name": "stdout",
     "output_type": "stream",
     "text": [
      "Overwriting diet_gen.dat\n"
     ]
    }
   ],
   "source": [
    "%%writefile diet_gen.dat\n",
    "\n",
    "# one way to input the data in AMPL format \n",
    "# for indexed parameters, the indexes are given before the value\n",
    "\n",
    "param:  F:                          c     V  :=\n",
    "  \"Cheeseburger\"                 1.84   4.0  \n",
    "  \"Ham Sandwich\"                 2.19   7.5  \n",
    "  \"Hamburger\"                    1.84   3.5  \n",
    "  \"Fish Sandwich\"                1.44   5.0  \n",
    "  \"Chicken Sandwich\"             2.29   7.3  \n",
    "  \"Fries\"                         .77   2.6  \n",
    "  \"Sausage Biscuit\"              1.29   4.1  \n",
    "  \"Lowfat Milk\"                   .60   8.0 \n",
    "  \"Orange Juice\"                  .72  12.0 ;\n",
    "\n",
    "param Vmax := 75.0;\n",
    "\n",
    "param:  N:       Nmin   Nmax :=\n",
    "        Cal      2000      .\n",
    "        Carbo     350    375\n",
    "        Protein    55      .\n",
    "        VitA      100      .\n",
    "        VitC      100      .\n",
    "        Calc      100      .\n",
    "        Iron      100      . ;\n",
    "\n",
    "param a:\n",
    "                               Cal  Carbo Protein   VitA   VitC  Calc  Iron :=\n",
    "  \"Cheeseburger\"               510     34     28     15      6    30    20\n",
    "  \"Ham Sandwich\"               370     35     24     15     10    20    20\n",
    "  \"Hamburger\"                  500     42     25      6      2    25    20\n",
    "  \"Fish Sandwich\"              370     38     14      2      0    15    10\n",
    "  \"Chicken Sandwich\"           400     42     31      8     15    15     8\n",
    "  \"Fries\"                      220     26      3      0     15     0     2\n",
    "  \"Sausage Biscuit\"            345     27     15      4      0    20    15\n",
    "  \"Lowfat Milk\"                110     12      9     10      4    30     0\n",
    "  \"Orange Juice\"                80     20      1      2    120     2     2 ;\n"
   ]
  },
  {
   "cell_type": "code",
   "execution_count": 3,
   "metadata": {
    "collapsed": false
   },
   "outputs": [
    {
     "name": "stdout",
     "output_type": "stream",
     "text": [
      "[    0.00] Setting up Pyomo environment\n",
      "[    0.00] Applying Pyomo preprocessing actions\n",
      "[    0.00] Creating model\n",
      "[    0.04] Applying solver\n",
      "[    0.07] Processing results\n",
      "    Number of solutions: 1\n",
      "    Solution Information\n",
      "      Gap: 0.0\n",
      "      Status: optimal\n",
      "      Function Value: 15.05\n",
      "    Solver results file: results.yml\n",
      "\n",
      "==========================================================\n",
      "Solution Summary\n",
      "==========================================================\n",
      "\n",
      "Model unknown\n",
      "\n",
      "  Variables:\n",
      "    x : Size=9, Index=F, Domain=NonNegativeIntegers\n",
      "        Key              : Lower : Value : Upper : Initial : Fixed : Stale\n",
      "            Cheeseburger :     0 :   4.0 :  None :    None : False : False\n",
      "        Chicken Sandwich :     0 :   0.0 :  None :    None : False : False\n",
      "           Fish Sandwich :     0 :   1.0 :  None :    None : False : False\n",
      "                   Fries :     0 :   5.0 :  None :    None : False : False\n",
      "            Ham Sandwich :     0 :   0.0 :  None :    None : False : False\n",
      "               Hamburger :     0 :   0.0 :  None :    None : False : False\n",
      "             Lowfat Milk :     0 :   4.0 :  None :    None : False : False\n",
      "            Orange Juice :     0 :   0.0 :  None :    None : False : False\n",
      "         Sausage Biscuit :     0 :   0.0 :  None :    None : False : False\n",
      "\n",
      "  Objectives:\n",
      "    cost : Size=1, Index=None, Active=True\n",
      "        Key  : Active : Value\n",
      "        None :   True : 15.05\n",
      "\n",
      "  Constraints:\n",
      "    nutrient_limit : Size=7\n",
      "        Key     : Lower  : Body   : Upper\n",
      "            Cal : 2000.0 : 3950.0 :  None\n",
      "           Calc :  100.0 :  255.0 :  None\n",
      "          Carbo :  350.0 :  352.0 : 375.0\n",
      "           Iron :  100.0 :  100.0 :  None\n",
      "        Protein :   55.0 :  177.0 :  None\n",
      "           VitA :  100.0 :  102.0 :  None\n",
      "           VitC :  100.0 :  115.0 :  None\n",
      "    volume : Size=1\n",
      "        Key  : Lower : Body : Upper\n",
      "        None :  None : 66.0 :  75.0\n",
      "\n",
      "[    0.07] Applying Pyomo postprocessing actions\n",
      "[    0.07] Pyomo Finished\n"
     ]
    }
   ],
   "source": [
    "!pyomo solve diet_gen.py diet_gen.dat --solver=glpk --summary --solver-suffix=dual"
   ]
  },
  {
   "cell_type": "code",
   "execution_count": 4,
   "metadata": {
    "collapsed": false
   },
   "outputs": [
    {
     "name": "stdout",
     "output_type": "stream",
     "text": [
      "# ==========================================================\n",
      "# = Solver Results                                         =\n",
      "# ==========================================================\n",
      "# ----------------------------------------------------------\n",
      "#   Problem Information\n",
      "# ----------------------------------------------------------\n",
      "Problem: \n",
      "- Name: unknown\n",
      "  Lower bound: 15.05\n",
      "  Upper bound: 15.05\n",
      "  Number of objectives: 1\n",
      "  Number of constraints: 10\n",
      "  Number of variables: 10\n",
      "  Number of nonzeros: 77\n",
      "  Sense: minimize\n",
      "# ----------------------------------------------------------\n",
      "#   Solver Information\n",
      "# ----------------------------------------------------------\n",
      "Solver: \n",
      "- Status: ok\n",
      "  Termination condition: optimal\n",
      "  Statistics: \n",
      "    Branch and bound: \n",
      "      Number of bounded subproblems: 23\n",
      "      Number of created subproblems: 23\n",
      "  Error rc: 0\n",
      "# ----------------------------------------------------------\n",
      "#   Solution Information\n",
      "# ----------------------------------------------------------\n",
      "Solution: \n",
      "- number of solutions: 1\n",
      "  number of solutions displayed: 1\n",
      "- Gap: 0.0\n",
      "  Status: optimal\n",
      "  Objective: \n",
      "    cost: \n",
      "      Id: 0\n",
      "      Value: 15.05\n",
      "  Variable: \n",
      "    x[Cheeseburger]:\n",
      "      Id: 0\n",
      "      Value: 4\n",
      "    x[Fish Sandwich]:\n",
      "      Id: 2\n",
      "      Value: 1\n",
      "    x[Fries]:\n",
      "      Id: 3\n",
      "      Value: 5\n",
      "    x[Lowfat Milk]:\n",
      "      Id: 6\n",
      "      Value: 4\n",
      "  Constraint: No nonzero values\n"
     ]
    }
   ],
   "source": [
    "!type results.yml"
   ]
  },
  {
   "cell_type": "code",
   "execution_count": null,
   "metadata": {
    "collapsed": true
   },
   "outputs": [],
   "source": []
  }
 ],
 "metadata": {
  "kernelspec": {
   "display_name": "Python [default]",
   "language": "python",
   "name": "python2"
  },
  "language_info": {
   "codemirror_mode": {
    "name": "ipython",
    "version": 2
   },
   "file_extension": ".py",
   "mimetype": "text/x-python",
   "name": "python",
   "nbconvert_exporter": "python",
   "pygments_lexer": "ipython2",
   "version": "2.7.12"
  }
 },
 "nbformat": 4,
 "nbformat_minor": 0
}
