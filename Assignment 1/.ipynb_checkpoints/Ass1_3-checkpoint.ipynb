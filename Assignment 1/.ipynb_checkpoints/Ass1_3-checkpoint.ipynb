{
 "cells": [
  {
   "cell_type": "code",
   "execution_count": 1,
   "metadata": {
    "collapsed": false
   },
   "outputs": [
    {
     "name": "stdout",
     "output_type": "stream",
     "text": [
      "Writing Ass1_3.py\n"
     ]
    }
   ],
   "source": [
    "%%writefile Ass1_3.py\n",
    "\n",
    "from __future__ import division \n",
    "from pyomo.environ import *\n",
    "#Using the abstact model we will need to specify the index of the model, the variables ,the parameters, \n",
    "#the equations of the model, etc.\n",
    "model = AbstractModel()\n",
    "\n",
    "#We specify that both parameters n and m are Non Negative Integers\n",
    "\n",
    "model.n = Param(within = NonNegativeIntegers)  #Number of companies\n",
    "model.m = Param(within = NonNegativeIntegers)  #Number of queries\n",
    "\n",
    "#Definition of the indexes\n",
    "#The index i will go from 1 to n \n",
    "#The index j will go from 1 to m\n",
    "\n",
    "model.I = RangeSet(1,model.n)    #Index for companies\n",
    "model.J = RangeSet(1,model.m)    #Index for queries\n",
    "\n",
    "model.c = Param(model.I,model.J)  #Revenue per user ad for each query j from company i\n",
    "model.d = Param(model.J)          #Max extimated number of request of query j\n",
    "model.b = Param(model.I)          #Max budget of company i\n",
    "\n",
    "#Definition of the variables\n",
    "#xij-->Total ads from company i for each query j \n",
    "model.x = Var(model.I, model.J, domain=NonNegativeReals)\n",
    "\n",
    "#Objective function\n",
    "#first we define previously a function that will be called after, when definig the objective function\n",
    "def obj_expression(model):\n",
    "    return summation(model.c,model.x)\n",
    "\n",
    "model.OBJ = Objective(rule=obj_expression,sense=maximize)\n",
    "\n",
    "#The total expenses of one enterprise in advertisement cannot be higher than the total budget that it has\n",
    "def b_constraint(model,i):\n",
    "    return sum(model.x[i,j]*model.c[i,j] for j in model.J) <= model.b[i]\n",
    "\n",
    "model.bud_cons = Constraint(model.I, rule=b_constraint)\n",
    "\n",
    "def d_constraint(model,j):\n",
    "    return sum(model.x[i,j] for i in model.I)<=model.d[j]\n",
    "\n",
    "model.numreq_cons=Constraint(model.J,rule=d_constraint)"
   ]
  },
  {
   "cell_type": "code",
   "execution_count": null,
   "metadata": {
    "collapsed": true
   },
   "outputs": [],
   "source": []
  },
  {
   "cell_type": "code",
   "execution_count": 2,
   "metadata": {
    "collapsed": false
   },
   "outputs": [
    {
     "name": "stdout",
     "output_type": "stream",
     "text": [
      "Writing Ass1_3.dat\n"
     ]
    }
   ],
   "source": [
    "%%writefile Ass1_3.dat\n",
    "\n",
    "param n := 10;  #companies\n",
    "param m := 10;  #queries\n",
    "    \n",
    "param b := \n",
    "1 200\n",
    "2 150\n",
    "3 180\n",
    "4 140\n",
    "5 210\n",
    "6 190\n",
    "7 160\n",
    "8 100\n",
    "9 205\n",
    "10 170\n",
    ";\n",
    "\n",
    "param d := \n",
    "1 150\n",
    "2 90\n",
    "3 80\n",
    "4 110\n",
    "5 135\n",
    "6 95\n",
    "7 105\n",
    "8 120\n",
    "9 75\n",
    "10 160\n",
    ";\n",
    "\n",
    "#The average revenue per user for advertisement of company i in the query j\n",
    "param c: 1 2 3 4 5 6 7 8 9 10 :=\n",
    "1 1 0.75 2.5 2 3 3.5 1.75 0.5 2.5 1.75\n",
    "2 0.5 0.5 2 0.75 1.5 1 0.6 0.9 1.5 2 \n",
    "3 0.5 2.6 1 2.5 1.5 2.25 0.75 0.5 1.5 0.8\n",
    "4 0.25 0.5 2.8 2 3 3.5 1.75 0.5 2.5 1.75\n",
    "5 0.75 0.5 2.5 1.1 1.4 1.8 1.75 0.5 2.5 3\n",
    "6 1.5 2.75 1.4 2 3.2 3.5 1.9 0.5 2.25 0.9\n",
    "7 1.4 0.7 3.2 2.3 2.1 0.6 1.6 0.3 2.9 3.1\n",
    "8 1 1.3 3.3 3.6 0.65 1.35 1.75 0.85 2 1.95\n",
    "9 0.4 2.1 0.35 2.8 3.45 3 1.25 0.55 2.7 0.2\n",
    "10 2 1.2 3.4 1.65 3.2 2.4 2.8 1.3 0.9 2.4\n",
    ";"
   ]
  },
  {
   "cell_type": "code",
   "execution_count": 3,
   "metadata": {
    "collapsed": false
   },
   "outputs": [
    {
     "name": "stdout",
     "output_type": "stream",
     "text": [
      "[    0.00] Setting up Pyomo environment\n",
      "[    0.00] Applying Pyomo preprocessing actions\n",
      "[    0.00] Creating model\n",
      "[    0.10] Applying solver\n",
      "[    0.24] Processing results\n",
      "    Number of solutions: 1\n",
      "    Solution Information\n",
      "      Gap: 0.0\n",
      "      Status: feasible\n",
      "      Function Value: 1705.0\n",
      "    Solver results file: results.yml\n",
      "[    0.35] Applying Pyomo postprocessing actions\n",
      "[    0.39] Pyomo Finished\n"
     ]
    }
   ],
   "source": [
    "!pyomo solve Ass1_3.py Ass1_3.dat --solver=glpk --solver-suffix=dual"
   ]
  },
  {
   "cell_type": "code",
   "execution_count": 7,
   "metadata": {
    "collapsed": false
   },
   "outputs": [
    {
     "name": "stdout",
     "output_type": "stream",
     "text": [
      "# ==========================================================\n",
      "# = Solver Results                                         =\n",
      "# ==========================================================\n",
      "# ----------------------------------------------------------\n",
      "#   Problem Information\n",
      "# ----------------------------------------------------------\n",
      "Problem: \n",
      "- Name: unknown\n",
      "  Lower bound: 1705.0\n",
      "  Upper bound: 1705.0\n",
      "  Number of objectives: 1\n",
      "  Number of constraints: 21\n",
      "  Number of variables: 101\n",
      "  Number of nonzeros: 201\n",
      "  Sense: maximize\n",
      "# ----------------------------------------------------------\n",
      "#   Solver Information\n",
      "# ----------------------------------------------------------\n",
      "Solver: \n",
      "- Status: ok\n",
      "  Termination condition: optimal\n",
      "  Statistics: \n",
      "    Branch and bound: \n",
      "      Number of bounded subproblems: 0\n",
      "      Number of created subproblems: 0\n",
      "  Error rc: 0\n",
      "  Time: 0.0310001373291\n",
      "# ----------------------------------------------------------\n",
      "#   Solution Information\n",
      "# ----------------------------------------------------------\n",
      "Solution: \n",
      "- number of solutions: 1\n",
      "  number of solutions displayed: 1\n",
      "- Gap: 0.0\n",
      "  Status: feasible\n",
      "  Message: None\n",
      "  Objective:\n",
      "    OBJ:\n",
      "      Value: 1705\n",
      "  Variable:\n",
      "    x[1,5]:\n",
      "      Value: 65.8333333333\n",
      "    x[1,6]:\n",
      "      Value: 0.714285714286\n",
      "    x[10,3]:\n",
      "      Value: 50\n",
      "    x[2,10]:\n",
      "      Value: 69.3548387097\n",
      "    x[2,5]:\n",
      "      Value: 7.52688172043\n",
      "    x[3,2]:\n",
      "      Value: 69.2307692308\n",
      "    x[4,6]:\n",
      "      Value: 40\n",
      "    x[5,10]:\n",
      "      Value: 70\n",
      "    x[6,6]:\n",
      "      Value: 54.2857142857\n",
      "    x[7,10]:\n",
      "      Value: 20.6451612903\n",
      "    x[7,3]:\n",
      "      Value: 30\n",
      "    x[8,4]:\n",
      "      Value: 27.7777777778\n",
      "    x[9,5]:\n",
      "      Value: 59.4202898551\n",
      "  Constraint:\n",
      "    bud_cons[10]:\n",
      "      Dual: 1\n",
      "    bud_cons[1]:\n",
      "      Dual: 1\n",
      "    bud_cons[2]:\n",
      "      Dual: 1\n",
      "    bud_cons[3]:\n",
      "      Dual: 1\n",
      "    bud_cons[4]:\n",
      "      Dual: 1\n",
      "    bud_cons[5]:\n",
      "      Dual: 1\n",
      "    bud_cons[6]:\n",
      "      Dual: 1\n",
      "    bud_cons[7]:\n",
      "      Dual: 1\n",
      "    bud_cons[8]:\n",
      "      Dual: 1\n",
      "    bud_cons[9]:\n",
      "      Dual: 1\n"
     ]
    }
   ],
   "source": [
    "!type results.yml"
   ]
  }
 ],
 "metadata": {
  "anaconda-cloud": {},
  "kernelspec": {
   "display_name": "Python [default]",
   "language": "python",
   "name": "python2"
  },
  "language_info": {
   "codemirror_mode": {
    "name": "ipython",
    "version": 2
   },
   "file_extension": ".py",
   "mimetype": "text/x-python",
   "name": "python",
   "nbconvert_exporter": "python",
   "pygments_lexer": "ipython2",
   "version": "2.7.12"
  }
 },
 "nbformat": 4,
 "nbformat_minor": 1
}
