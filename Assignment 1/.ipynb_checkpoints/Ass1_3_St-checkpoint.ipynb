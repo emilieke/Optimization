{
 "cells": [
  {
   "cell_type": "code",
   "execution_count": 1,
   "metadata": {
    "collapsed": false
   },
   "outputs": [
    {
     "name": "stdout",
     "output_type": "stream",
     "text": [
      "Writing Ass1_3_St.py\n"
     ]
    }
   ],
   "source": [
    "%%writefile Ass1_3_St.py\n",
    "\n",
    "from __future__ import division \n",
    "from pyomo.environ import *\n",
    "#Using the abstact model we will need to specify the index of the model, the variables ,the parameters, \n",
    "#the equations of the model, etc.\n",
    "model = AbstractModel()\n",
    "\n",
    "#We specify that both parameters n and m are Non Negative Integers\n",
    "\n",
    "model.n = Param(within = NonNegativeIntegers)  #Total number of ads for all companies (j=1,...,n)\n",
    "model.m = Param(within = NonNegativeIntegers)  #Total number of constraints (i=1,...,m)\n",
    "\n",
    "#Definition of the indexes\n",
    "#The index i will go from 1 to m \n",
    "#The index j will go from 1 to n\n",
    "\n",
    "model.I = RangeSet(1,model.m)    \n",
    "model.J = RangeSet(1,model.n)    \n",
    "\n",
    "model.A = Param(model.I,model.J)  \n",
    "model.c = Param(model.J)          \n",
    "model.b = Param(model.I)          \n",
    "\n",
    "#Definition of the variables\n",
    "model.x = Var(model.J, domain=NonNegativeIntegers)\n",
    "#Definition of slack variables\n",
    "model.z = Var(model.I, domain=NonNegativeReals)\n",
    "\n",
    "#Objective function\n",
    "#first we define previously a function that will be called after, when definig the objective function\n",
    "def obj_expression(model):\n",
    "    return summation(model.c,model.x)\n",
    "\n",
    "model.OBJ = Objective(rule=obj_expression)\n",
    "\n",
    "#The total expenses of one enterprise in advertisement cannot be higher than the total budget that it has\n",
    "def A_constraint(model,i):\n",
    "    return sum(model.A[i,j]*model.x[j] for j in model.J) + model.z[i] == model.b[i]\n",
    "\n",
    "model.cons = Constraint(model.I, rule=A_constraint)"
   ]
  },
  {
   "cell_type": "code",
   "execution_count": 2,
   "metadata": {
    "collapsed": false
   },
   "outputs": [
    {
     "name": "stdout",
     "output_type": "stream",
     "text": [
      "Writing Ass1_3_St.dat\n"
     ]
    }
   ],
   "source": [
    "%%writefile Ass1_3_St.dat\n",
    "\n",
    "param n := 9;  \n",
    "param m := 6;  \n",
    "    \n",
    "param b := \n",
    "1 200\n",
    "2 150\n",
    "3 180\n",
    "4 150\n",
    "5 90\n",
    "6 80\n",
    ";\n",
    "\n",
    "param c := \n",
    "1 -1\n",
    "2 -0.75\n",
    "3 -5\n",
    "4 -0.5\n",
    "5 -0.5\n",
    "6 -2\n",
    "7 -0.5\n",
    "8 -3\n",
    "9 -1\n",
    ";\n",
    "#10 0\n",
    "#11 0\n",
    "#12 0\n",
    "#13 0\n",
    "#14 0\n",
    "#15 0\n",
    "\n",
    "\n",
    "#The average revenue per user for advertisement of company i in the query j\n",
    "param A: 1 2 3 4 5 6 7 8 9:=\n",
    "1 1 0.75 5 0 0 0 0 0 0 \n",
    "2 0 0 0 0.5 0.5 2 0 0 0 \n",
    "3 0 0 0 0 0 0 0.5 3 1 \n",
    "4 1 0 0 1 0 0 1 0 0 \n",
    "5 0 1 0 0 1 0 0 1 0 \n",
    "6 0 0 1 0 0 1 0 0 1 \n",
    ";\n",
    "#param A: 1 2 3 4 5 6 7 8 9 10 11 12 13 14 15:=\n",
    "#1 1 0.75 5 0 0 0 0 0 0 1 0 0 0 0 0\n",
    "#2 0 0 0 0.5 0.5 2 0 0 0 0 1 0 0 0 0\n",
    "#3 0 0 0 0 0 0 0.5 3 1 0 0 1 0 0 0\n",
    "#4 1 0 0 1 0 0 1 0 0 0 0 0 1 0 0\n",
    "#5 0 1 0 0 1 0 0 1 0 0 0 0 0 1 0\n",
    "#6 0 0 1 0 0 1 0 0 1 0 0 0 0 0 1\n",
    "#;"
   ]
  },
  {
   "cell_type": "code",
   "execution_count": 5,
   "metadata": {
    "collapsed": false
   },
   "outputs": [
    {
     "name": "stdout",
     "output_type": "stream",
     "text": [
      "[    0.00] Setting up Pyomo environment\n",
      "[    0.00] Applying Pyomo preprocessing actions\n",
      "[    0.00] Creating model\n",
      "[    0.06] Applying solver\n",
      "[    0.10] Processing results\n",
      "    Number of solutions: 1\n",
      "    Solution Information\n",
      "      Gap: 0.0\n",
      "      Status: optimal\n",
      "      Function Value: -530.0\n",
      "    Solver results file: results.yml\n",
      "\n",
      "==========================================================\n",
      "Solution Summary\n",
      "==========================================================\n",
      "\n",
      "Model unknown\n",
      "\n",
      "  Variables:\n",
      "    x : Size=9, Index=J\n",
      "        Key : Lower : Value : Upper : Fixed : Stale : Domain\n",
      "          1 :     0 :   0.0 :  None : False : False : NonNegativeIntegers\n",
      "          2 :     0 :   0.0 :  None : False : False : NonNegativeIntegers\n",
      "          3 :     0 :  40.0 :  None : False : False : NonNegativeIntegers\n",
      "          4 :     0 : 140.0 :  None : False : False : NonNegativeIntegers\n",
      "          5 :     0 :   0.0 :  None : False : False : NonNegativeIntegers\n",
      "          6 :     0 :  40.0 :  None : False : False : NonNegativeIntegers\n",
      "          7 :     0 :   0.0 :  None : False : False : NonNegativeIntegers\n",
      "          8 :     0 :  60.0 :  None : False : False : NonNegativeIntegers\n",
      "          9 :     0 :   0.0 :  None : False : False : NonNegativeIntegers\n",
      "    z : Size=6, Index=I\n",
      "        Key : Lower : Value : Upper : Fixed : Stale : Domain\n",
      "          1 :     0 :   0.0 :  None : False : False : NonNegativeReals\n",
      "          2 :     0 :   0.0 :  None : False : False : NonNegativeReals\n",
      "          3 :     0 :   0.0 :  None : False : False : NonNegativeReals\n",
      "          4 :     0 :  10.0 :  None : False : False : NonNegativeReals\n",
      "          5 :     0 :  30.0 :  None : False : False : NonNegativeReals\n",
      "          6 :     0 :   0.0 :  None : False : False : NonNegativeReals\n",
      "\n",
      "  Objectives:\n",
      "    OBJ : Size=1, Index=None, Active=True\n",
      "        Key  : Active : Value\n",
      "        None :   True : -530.0\n",
      "\n",
      "  Constraints:\n",
      "    cons : Size=6\n",
      "        Key : Lower : Body  : Upper\n",
      "          1 : 200.0 : 200.0 : 200.0\n",
      "          2 : 150.0 : 150.0 : 150.0\n",
      "          3 : 180.0 : 180.0 : 180.0\n",
      "          4 : 150.0 : 150.0 : 150.0\n",
      "          5 :  90.0 :  90.0 :  90.0\n",
      "          6 :  80.0 :  80.0 :  80.0\n",
      "\n",
      "[    0.29] Applying Pyomo postprocessing actions\n",
      "[    0.29] Pyomo Finished\n"
     ]
    }
   ],
   "source": [
    "!pyomo solve Ass1_3_St.py Ass1_3_St.dat --solver=glpk --summary --solver-suffix=dual"
   ]
  },
  {
   "cell_type": "code",
   "execution_count": 4,
   "metadata": {
    "collapsed": false
   },
   "outputs": [
    {
     "name": "stdout",
     "output_type": "stream",
     "text": [
      "/bin/sh: line 0: type: results.yml: not found\r\n"
     ]
    }
   ],
   "source": [
    "!type results.yml"
   ]
  },
  {
   "cell_type": "code",
   "execution_count": null,
   "metadata": {
    "collapsed": true
   },
   "outputs": [],
   "source": []
  }
 ],
 "metadata": {
  "anaconda-cloud": {},
  "kernelspec": {
   "display_name": "Python [default]",
   "language": "python",
   "name": "python2"
  },
  "language_info": {
   "codemirror_mode": {
    "name": "ipython",
    "version": 2
   },
   "file_extension": ".py",
   "mimetype": "text/x-python",
   "name": "python",
   "nbconvert_exporter": "python",
   "pygments_lexer": "ipython2",
   "version": "2.7.12"
  }
 },
 "nbformat": 4,
 "nbformat_minor": 1
}
